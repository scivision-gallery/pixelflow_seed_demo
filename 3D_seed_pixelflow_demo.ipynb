{
  "cells": [
    {
      "cell_type": "markdown",
      "metadata": {
        "id": "GO0vsHOgGwgL"
      },
      "source": [
        "# Automated Extraction of 3D Seed Phenotype Data using a pre-trained `StarDist` model, `Scivision`, and `Pixelflow`"
      ]
    },
    {
      "cell_type": "markdown",
      "metadata": {
        "id": "joKES48-khez"
      },
      "source": [
        "### This notebook demonstrates how to use pixelflow to extract measurements of segmented objects from 3D imagery. This demo will use 3D x-ray computed tomography images of Oilseed rape (*Brassica napus*) seedpods detected and segmented using an adapted StarDist model as described in [Corcoran et al. 2023](https://www.frontiersin.org/articles/10.3389/fpls.2023.1120182/full).\n",
        "\n",
        "### Example images required to run this notebook can be found [here](https://zenodo.org/records/8355920)\n",
        "\n",
        "### R code used to run valve sorting in this notebook is available from the [Scivision gallery github page](https://github.com/scivision-gallery/pixelflow_seed_demo/tree/main) seed (`'seedpod_valve_lowess_single.R'`)"
      ]
    },
    {
      "cell_type": "markdown",
      "metadata": {
        "id": "Tq16E6b_Gi2g"
      },
      "source": [
        "## 1. Install and load relevant packages"
      ]
    },
    {
      "cell_type": "code",
      "execution_count": 1,
      "metadata": {
        "id": "ItdBJ2m6k0LQ"
      },
      "outputs": [],
      "source": [
        "from pixelflow import pixelflow\n",
        "\n",
        "import matplotlib.pyplot as plt\n",
        "import numpy as np\n",
        "from tifffile import imread\n",
        "from pathlib import Path\n",
        "\n",
        "from glob import glob\n",
        "import re\n",
        "\n",
        "from scivision import default_catalog, load_pretrained_model"
      ]
    },
    {
      "cell_type": "markdown",
      "metadata": {
        "id": "au80VydpG8fK"
      },
      "source": [
        "## 2. Find `StarDist Seed` model in `Scivision` model catalog"
      ]
    },
    {
      "cell_type": "code",
      "execution_count": 2,
      "metadata": {
        "colab": {
          "base_uri": "https://localhost:8080/",
          "height": 1000
        },
        "id": "8V_KIYw7HBf3",
        "outputId": "4b34d08f-5833-492c-b296-b44cf2d3f577"
      },
      "outputs": [
        {
          "data": {
            "text/html": [
              "<div>\n",
              "<style scoped>\n",
              "    .dataframe tbody tr th:only-of-type {\n",
              "        vertical-align: middle;\n",
              "    }\n",
              "\n",
              "    .dataframe tbody tr th {\n",
              "        vertical-align: top;\n",
              "    }\n",
              "\n",
              "    .dataframe thead th {\n",
              "        text-align: right;\n",
              "    }\n",
              "</style>\n",
              "<table border=\"1\" class=\"dataframe\">\n",
              "  <thead>\n",
              "    <tr style=\"text-align: right;\">\n",
              "      <th></th>\n",
              "      <th>name</th>\n",
              "      <th>description</th>\n",
              "      <th>tasks</th>\n",
              "      <th>pkg_url</th>\n",
              "      <th>url</th>\n",
              "      <th>scivision_usable</th>\n",
              "      <th>institution</th>\n",
              "      <th>tags</th>\n",
              "    </tr>\n",
              "  </thead>\n",
              "  <tbody>\n",
              "    <tr>\n",
              "      <th>0</th>\n",
              "      <td>stardist</td>\n",
              "      <td>Single class object detection and segementatio...</td>\n",
              "      <td>(TaskEnum.object_detection, TaskEnum.segmentat...</td>\n",
              "      <td>git+https://github.com/stardist/stardist.git@m...</td>\n",
              "      <td>https://github.com/stardist/stardist</td>\n",
              "      <td>False</td>\n",
              "      <td>(epfl,)</td>\n",
              "      <td>(2D, 3D, optical-microscopy, xray, microtomogr...</td>\n",
              "    </tr>\n",
              "    <tr>\n",
              "      <th>1</th>\n",
              "      <td>PlantCV</td>\n",
              "      <td>Open-source image analysis software package ta...</td>\n",
              "      <td>(TaskEnum.thresholding, TaskEnum.object_detect...</td>\n",
              "      <td>git+https://github.com/danforthcenter/plantcv@...</td>\n",
              "      <td>https://github.com/danforthcenter/plantcv</td>\n",
              "      <td>False</td>\n",
              "      <td>(danforthcenter,)</td>\n",
              "      <td>(2D, hyperspectral, multispectral, near-infrar...</td>\n",
              "    </tr>\n",
              "    <tr>\n",
              "      <th>2</th>\n",
              "      <td>greenotyper</td>\n",
              "      <td>Greenotyper is an image analysis tool for larg...</td>\n",
              "      <td>(TaskEnum.segmentation)</td>\n",
              "      <td>git+https://github.com/MarniTausen/Greenotyper...</td>\n",
              "      <td>https://github.com/MarniTausen/Greenotyper</td>\n",
              "      <td>False</td>\n",
              "      <td>(MarniTausen,)</td>\n",
              "      <td>(2D, multispectral, plant-phenotyping, climate...</td>\n",
              "    </tr>\n",
              "    <tr>\n",
              "      <th>3</th>\n",
              "      <td>mapreader-plant</td>\n",
              "      <td>automated detection of plant patches in images...</td>\n",
              "      <td>(TaskEnum.object_detection, TaskEnum.classific...</td>\n",
              "      <td>git+https://github.com/alan-turing-institute/m...</td>\n",
              "      <td>https://github.com/alan-turing-institute/mapre...</td>\n",
              "      <td>True</td>\n",
              "      <td>(alan-turing-institute,)</td>\n",
              "      <td>(2D, plant, phenotype, rgb, biology, agriculture)</td>\n",
              "    </tr>\n",
              "    <tr>\n",
              "      <th>4</th>\n",
              "      <td>resnet50-plankton</td>\n",
              "      <td>automated classification of plankton images co...</td>\n",
              "      <td>(TaskEnum.classificiation)</td>\n",
              "      <td>git+https://github.com/alan-turing-institute/p...</td>\n",
              "      <td>https://github.com/alan-turing-institute/plank...</td>\n",
              "      <td>True</td>\n",
              "      <td>(alan-turing-institute, cefas, plankton-analyt...</td>\n",
              "      <td>(2D, plankton, ecology, environmental-science)</td>\n",
              "    </tr>\n",
              "    <tr>\n",
              "      <th>5</th>\n",
              "      <td>vedge-detector</td>\n",
              "      <td>automated detection of coastal vegetation edge...</td>\n",
              "      <td>(TaskEnum.segmentation)</td>\n",
              "      <td>git+https://github.com/MartinSJRogers/VEdge_De...</td>\n",
              "      <td>https://github.com/MartinSJRogers/VEdge_Detect...</td>\n",
              "      <td>True</td>\n",
              "      <td>(cambridge-university, birkbeck-university)</td>\n",
              "      <td>(2D, satellite, remote-sensing, ecology, envir...</td>\n",
              "    </tr>\n",
              "    <tr>\n",
              "      <th>6</th>\n",
              "      <td>image-classifiers</td>\n",
              "      <td>Scivision plugin for the image-classifiers pac...</td>\n",
              "      <td>(TaskEnum.classificiation)</td>\n",
              "      <td>git+https://github.com/alan-turing-institute/s...</td>\n",
              "      <td>https://github.com/alan-turing-institute/scivi...</td>\n",
              "      <td>True</td>\n",
              "      <td>(alan-turing-institute,)</td>\n",
              "      <td>(classification, 2D, image)</td>\n",
              "    </tr>\n",
              "    <tr>\n",
              "      <th>7</th>\n",
              "      <td>huggingface-classifiers</td>\n",
              "      <td>Selection of image classifiers taken from http...</td>\n",
              "      <td>(TaskEnum.classificiation)</td>\n",
              "      <td>git+https://github.com/alan-turing-institute/s...</td>\n",
              "      <td>https://github.com/alan-turing-institute/scivi...</td>\n",
              "      <td>True</td>\n",
              "      <td>(alan-turing-institute, huggingface)</td>\n",
              "      <td>(classification, 2D, image)</td>\n",
              "    </tr>\n",
              "    <tr>\n",
              "      <th>8</th>\n",
              "      <td>huggingface-segmentation</td>\n",
              "      <td>Selection of segmentation algorithms taken fro...</td>\n",
              "      <td>(TaskEnum.segmentation)</td>\n",
              "      <td>git+https://github.com/alan-turing-institute/s...</td>\n",
              "      <td>https://github.com/alan-turing-institute/scivi...</td>\n",
              "      <td>True</td>\n",
              "      <td>(alan-turing-institute, huggingface)</td>\n",
              "      <td>()</td>\n",
              "    </tr>\n",
              "    <tr>\n",
              "      <th>9</th>\n",
              "      <td>huggingface-object-detection</td>\n",
              "      <td>Selection of object detection algorithms taken...</td>\n",
              "      <td>(TaskEnum.object_detection)</td>\n",
              "      <td>git+https://github.com/alan-turing-institute/s...</td>\n",
              "      <td>https://github.com/alan-turing-institute/scivi...</td>\n",
              "      <td>True</td>\n",
              "      <td>(alan-turing-institute, huggingface)</td>\n",
              "      <td>()</td>\n",
              "    </tr>\n",
              "    <tr>\n",
              "      <th>10</th>\n",
              "      <td>detectreeRGB-forest</td>\n",
              "      <td>Detect changes in tall tree height with machin...</td>\n",
              "      <td>(TaskEnum.object_detection, TaskEnum.segmentat...</td>\n",
              "      <td>git+https://github.com/shmh40/detectreeRGB-tre...</td>\n",
              "      <td>https://github.com/shmh40/detectreeRGB-treecro...</td>\n",
              "      <td>True</td>\n",
              "      <td>(cambridge-university,)</td>\n",
              "      <td>(2D, satellite, remote-sensing, ecology, envir...</td>\n",
              "    </tr>\n",
              "    <tr>\n",
              "      <th>11</th>\n",
              "      <td>flower-classification-model</td>\n",
              "      <td>Identify flower species</td>\n",
              "      <td>(TaskEnum.classificiation)</td>\n",
              "      <td>git+https://github.com/alan-turing-institute/f...</td>\n",
              "      <td>https://github.com/alan-turing-institute/flowe...</td>\n",
              "      <td>True</td>\n",
              "      <td>(alan-turing-institute,)</td>\n",
              "      <td>(flowers, ecology)</td>\n",
              "    </tr>\n",
              "    <tr>\n",
              "      <th>12</th>\n",
              "      <td>butterfly-classification-model</td>\n",
              "      <td>Identify butterfly species</td>\n",
              "      <td>(TaskEnum.classificiation)</td>\n",
              "      <td>git+https://github.com/alan-turing-institute/b...</td>\n",
              "      <td>https://github.com/alan-turing-institute/butte...</td>\n",
              "      <td>True</td>\n",
              "      <td>(alan-turing-institute,)</td>\n",
              "      <td>(butterflies, insects, animals, ecology)</td>\n",
              "    </tr>\n",
              "    <tr>\n",
              "      <th>13</th>\n",
              "      <td>Affinity-VAE</td>\n",
              "      <td>A framework for automatic clustering and class...</td>\n",
              "      <td>(TaskEnum.classificiation)</td>\n",
              "      <td>https://github.com/alan-turing-institute/affin...</td>\n",
              "      <td>https://github.com/alan-turing-institute/affin...</td>\n",
              "      <td>False</td>\n",
              "      <td>(The Alan Turing Institute, Rutherford Appleto...</td>\n",
              "      <td>(Protein, Tomography, Cryo-EM, Shape regularis...</td>\n",
              "    </tr>\n",
              "    <tr>\n",
              "      <th>14</th>\n",
              "      <td>btrack</td>\n",
              "      <td>btrack is a Python library for multi object tr...</td>\n",
              "      <td>()</td>\n",
              "      <td>btrack</td>\n",
              "      <td>https://github.com/quantumjot/btrack</td>\n",
              "      <td>False</td>\n",
              "      <td>(The Alan Turing Institute, University College...</td>\n",
              "      <td>(cell tracking, bio imaging , optimisation, ba...</td>\n",
              "    </tr>\n",
              "    <tr>\n",
              "      <th>15</th>\n",
              "      <td>StarDist Seed</td>\n",
              "      <td>Pre-trained StarDist model for detection and s...</td>\n",
              "      <td>(TaskEnum.object_detection, TaskEnum.segmentat...</td>\n",
              "      <td>stardist_seed_pod</td>\n",
              "      <td>https://raw.githubusercontent.com/alan-turing-...</td>\n",
              "      <td>True</td>\n",
              "      <td>(The Alan Turing Institute, Rothamsted Research)</td>\n",
              "      <td>(2D, 3D, plant-phenotyping, agriculture, rgb, ...</td>\n",
              "    </tr>\n",
              "  </tbody>\n",
              "</table>\n",
              "</div>"
            ],
            "text/plain": [
              "                              name  \\\n",
              "0                         stardist   \n",
              "1                          PlantCV   \n",
              "2                      greenotyper   \n",
              "3                  mapreader-plant   \n",
              "4                resnet50-plankton   \n",
              "5                   vedge-detector   \n",
              "6                image-classifiers   \n",
              "7          huggingface-classifiers   \n",
              "8         huggingface-segmentation   \n",
              "9     huggingface-object-detection   \n",
              "10             detectreeRGB-forest   \n",
              "11     flower-classification-model   \n",
              "12  butterfly-classification-model   \n",
              "13                    Affinity-VAE   \n",
              "14                          btrack   \n",
              "15                   StarDist Seed   \n",
              "\n",
              "                                          description  \\\n",
              "0   Single class object detection and segementatio...   \n",
              "1   Open-source image analysis software package ta...   \n",
              "2   Greenotyper is an image analysis tool for larg...   \n",
              "3   automated detection of plant patches in images...   \n",
              "4   automated classification of plankton images co...   \n",
              "5   automated detection of coastal vegetation edge...   \n",
              "6   Scivision plugin for the image-classifiers pac...   \n",
              "7   Selection of image classifiers taken from http...   \n",
              "8   Selection of segmentation algorithms taken fro...   \n",
              "9   Selection of object detection algorithms taken...   \n",
              "10  Detect changes in tall tree height with machin...   \n",
              "11                            Identify flower species   \n",
              "12                         Identify butterfly species   \n",
              "13  A framework for automatic clustering and class...   \n",
              "14  btrack is a Python library for multi object tr...   \n",
              "15  Pre-trained StarDist model for detection and s...   \n",
              "\n",
              "                                                tasks  \\\n",
              "0   (TaskEnum.object_detection, TaskEnum.segmentat...   \n",
              "1   (TaskEnum.thresholding, TaskEnum.object_detect...   \n",
              "2                             (TaskEnum.segmentation)   \n",
              "3   (TaskEnum.object_detection, TaskEnum.classific...   \n",
              "4                          (TaskEnum.classificiation)   \n",
              "5                             (TaskEnum.segmentation)   \n",
              "6                          (TaskEnum.classificiation)   \n",
              "7                          (TaskEnum.classificiation)   \n",
              "8                             (TaskEnum.segmentation)   \n",
              "9                         (TaskEnum.object_detection)   \n",
              "10  (TaskEnum.object_detection, TaskEnum.segmentat...   \n",
              "11                         (TaskEnum.classificiation)   \n",
              "12                         (TaskEnum.classificiation)   \n",
              "13                         (TaskEnum.classificiation)   \n",
              "14                                                 ()   \n",
              "15  (TaskEnum.object_detection, TaskEnum.segmentat...   \n",
              "\n",
              "                                              pkg_url  \\\n",
              "0   git+https://github.com/stardist/stardist.git@m...   \n",
              "1   git+https://github.com/danforthcenter/plantcv@...   \n",
              "2   git+https://github.com/MarniTausen/Greenotyper...   \n",
              "3   git+https://github.com/alan-turing-institute/m...   \n",
              "4   git+https://github.com/alan-turing-institute/p...   \n",
              "5   git+https://github.com/MartinSJRogers/VEdge_De...   \n",
              "6   git+https://github.com/alan-turing-institute/s...   \n",
              "7   git+https://github.com/alan-turing-institute/s...   \n",
              "8   git+https://github.com/alan-turing-institute/s...   \n",
              "9   git+https://github.com/alan-turing-institute/s...   \n",
              "10  git+https://github.com/shmh40/detectreeRGB-tre...   \n",
              "11  git+https://github.com/alan-turing-institute/f...   \n",
              "12  git+https://github.com/alan-turing-institute/b...   \n",
              "13  https://github.com/alan-turing-institute/affin...   \n",
              "14                                             btrack   \n",
              "15                                  stardist_seed_pod   \n",
              "\n",
              "                                                  url  scivision_usable  \\\n",
              "0                https://github.com/stardist/stardist             False   \n",
              "1           https://github.com/danforthcenter/plantcv             False   \n",
              "2          https://github.com/MarniTausen/Greenotyper             False   \n",
              "3   https://github.com/alan-turing-institute/mapre...              True   \n",
              "4   https://github.com/alan-turing-institute/plank...              True   \n",
              "5   https://github.com/MartinSJRogers/VEdge_Detect...              True   \n",
              "6   https://github.com/alan-turing-institute/scivi...              True   \n",
              "7   https://github.com/alan-turing-institute/scivi...              True   \n",
              "8   https://github.com/alan-turing-institute/scivi...              True   \n",
              "9   https://github.com/alan-turing-institute/scivi...              True   \n",
              "10  https://github.com/shmh40/detectreeRGB-treecro...              True   \n",
              "11  https://github.com/alan-turing-institute/flowe...              True   \n",
              "12  https://github.com/alan-turing-institute/butte...              True   \n",
              "13  https://github.com/alan-turing-institute/affin...             False   \n",
              "14               https://github.com/quantumjot/btrack             False   \n",
              "15  https://raw.githubusercontent.com/alan-turing-...              True   \n",
              "\n",
              "                                          institution  \\\n",
              "0                                             (epfl,)   \n",
              "1                                   (danforthcenter,)   \n",
              "2                                      (MarniTausen,)   \n",
              "3                            (alan-turing-institute,)   \n",
              "4   (alan-turing-institute, cefas, plankton-analyt...   \n",
              "5         (cambridge-university, birkbeck-university)   \n",
              "6                            (alan-turing-institute,)   \n",
              "7                (alan-turing-institute, huggingface)   \n",
              "8                (alan-turing-institute, huggingface)   \n",
              "9                (alan-turing-institute, huggingface)   \n",
              "10                            (cambridge-university,)   \n",
              "11                           (alan-turing-institute,)   \n",
              "12                           (alan-turing-institute,)   \n",
              "13  (The Alan Turing Institute, Rutherford Appleto...   \n",
              "14  (The Alan Turing Institute, University College...   \n",
              "15   (The Alan Turing Institute, Rothamsted Research)   \n",
              "\n",
              "                                                 tags  \n",
              "0   (2D, 3D, optical-microscopy, xray, microtomogr...  \n",
              "1   (2D, hyperspectral, multispectral, near-infrar...  \n",
              "2   (2D, multispectral, plant-phenotyping, climate...  \n",
              "3   (2D, plant, phenotype, rgb, biology, agriculture)  \n",
              "4      (2D, plankton, ecology, environmental-science)  \n",
              "5   (2D, satellite, remote-sensing, ecology, envir...  \n",
              "6                         (classification, 2D, image)  \n",
              "7                         (classification, 2D, image)  \n",
              "8                                                  ()  \n",
              "9                                                  ()  \n",
              "10  (2D, satellite, remote-sensing, ecology, envir...  \n",
              "11                                 (flowers, ecology)  \n",
              "12           (butterflies, insects, animals, ecology)  \n",
              "13  (Protein, Tomography, Cryo-EM, Shape regularis...  \n",
              "14  (cell tracking, bio imaging , optimisation, ba...  \n",
              "15  (2D, 3D, plant-phenotyping, agriculture, rgb, ...  "
            ]
          },
          "execution_count": 2,
          "metadata": {},
          "output_type": "execute_result"
        }
      ],
      "source": [
        "# load full scivision model catalog\n",
        "models_catalog = default_catalog.models.to_dataframe()\n",
        "models_catalog"
      ]
    },
    {
      "cell_type": "code",
      "execution_count": 3,
      "metadata": {
        "colab": {
          "base_uri": "https://localhost:8080/",
          "height": 52
        },
        "id": "ITolsBTvIBXP",
        "outputId": "94eb2b90-89d3-4819-9d8b-411def3602f5"
      },
      "outputs": [
        {
          "data": {
            "text/plain": [
              "FlexibleUrl('https://raw.githubusercontent.com/alan-turing-institute/stardist-seed-pod/main/.scivision/model.yml', scheme='https', host='raw.githubusercontent.com', tld='com', host_type='domain', path='/alan-turing-institute/stardist-seed-pod/main/.scivision/model.yml')"
            ]
          },
          "execution_count": 3,
          "metadata": {},
          "output_type": "execute_result"
        }
      ],
      "source": [
        "#get github repository link for the model we want to use (StarDist Seed)\n",
        "model_repo = models_catalog[models_catalog.name == \"StarDist Seed\"].url.item()\n",
        "model_repo"
      ]
    },
    {
      "cell_type": "markdown",
      "metadata": {
        "id": "c05wj_wfIGn1"
      },
      "source": [
        "## 3. Load `StarDist Seed` model from `Scivision` model catalog"
      ]
    },
    {
      "cell_type": "code",
      "execution_count": 4,
      "metadata": {
        "colab": {
          "base_uri": "https://localhost:8080/"
        },
        "id": "3l96TV3JIMeW",
        "outputId": "9a65ed1d-70b7-4f18-d5df-9c219ef6eeb9"
      },
      "outputs": [
        {
          "data": {
            "text/html": [
              "<pre style=\"white-space:pre;overflow-x:auto;line-height:normal;font-family:Menlo,'DejaVu Sans Mono',consolas,'Courier New',monospace\"><span style=\"color: #7fbfbf; text-decoration-color: #7fbfbf\">[09:48:25] </span><span style=\"color: #000080; text-decoration-color: #000080\">INFO    </span> <span style=\"color: #808000; text-decoration-color: #808000\">Call</span>=<span style=\"color: #008000; text-decoration-color: #008000\">'load_pretrained_model'</span>, <span style=\"color: #808000; text-decoration-color: #808000\">module</span>=<span style=\"color: #008000; text-decoration-color: #008000\">'scivision.io.reader'</span>, <span style=\"color: #808000; text-decoration-color: #808000\">signature</span>=<span style=\"font-weight: bold\">(</span>path:        <a href=\"file:///Users/ifenton/opt/anaconda3/envs/test_pxsd4/lib/python3.10/site-packages/scivision/koala.py\" target=\"_blank\"><span style=\"color: #7f7f7f; text-decoration-color: #7f7f7f\">koala.py</span></a><span style=\"color: #7f7f7f; text-decoration-color: #7f7f7f\">:</span><a href=\"file:///Users/ifenton/opt/anaconda3/envs/test_pxsd4/lib/python3.10/site-packages/scivision/koala.py#49\" target=\"_blank\"><span style=\"color: #7f7f7f; text-decoration-color: #7f7f7f\">49</span></a>\n",
              "<span style=\"color: #7fbfbf; text-decoration-color: #7fbfbf\">           </span>         os.PathLike, branch: str = <span style=\"color: #008000; text-decoration-color: #008000\">'main'</span>, allow_install: bool = <span style=\"color: #ff0000; text-decoration-color: #ff0000; font-style: italic\">False</span>, model_selection:    <span style=\"color: #7f7f7f; text-decoration-color: #7f7f7f\">           </span>\n",
              "<span style=\"color: #7fbfbf; text-decoration-color: #7fbfbf\">           </span>         str = <span style=\"color: #008000; text-decoration-color: #008000\">'default'</span>, load_multiple: bool = <span style=\"color: #ff0000; text-decoration-color: #ff0000; font-style: italic\">False</span>, *args, **kwargs<span style=\"font-weight: bold\">)</span> -&gt;                   <span style=\"color: #7f7f7f; text-decoration-color: #7f7f7f\">           </span>\n",
              "<span style=\"color: #7fbfbf; text-decoration-color: #7fbfbf\">           </span>         scivision.io.wrapper.PretrainedModel, <span style=\"color: #808000; text-decoration-color: #808000\">kwargs_given</span>=<span style=\"color: #008000; text-decoration-color: #008000\">'model_selection, allow_install'</span> <span style=\"color: #7f7f7f; text-decoration-color: #7f7f7f\">           </span>\n",
              "</pre>\n"
            ],
            "text/plain": [
              "\u001b[2;36m[09:48:25]\u001b[0m\u001b[2;36m \u001b[0m\u001b[34mINFO    \u001b[0m \u001b[33mCall\u001b[0m=\u001b[32m'load_pretrained_model'\u001b[0m, \u001b[33mmodule\u001b[0m=\u001b[32m'scivision.io.reader'\u001b[0m, \u001b[33msignature\u001b[0m=\u001b[1m(\u001b[0mpath:        \u001b]8;id=32438;file:///Users/ifenton/opt/anaconda3/envs/test_pxsd4/lib/python3.10/site-packages/scivision/koala.py\u001b\\\u001b[2mkoala.py\u001b[0m\u001b]8;;\u001b\\\u001b[2m:\u001b[0m\u001b]8;id=876671;file:///Users/ifenton/opt/anaconda3/envs/test_pxsd4/lib/python3.10/site-packages/scivision/koala.py#49\u001b\\\u001b[2m49\u001b[0m\u001b]8;;\u001b\\\n",
              "\u001b[2;36m           \u001b[0m         os.PathLike, branch: str = \u001b[32m'main'\u001b[0m, allow_install: bool = \u001b[3;91mFalse\u001b[0m, model_selection:    \u001b[2m           \u001b[0m\n",
              "\u001b[2;36m           \u001b[0m         str = \u001b[32m'default'\u001b[0m, load_multiple: bool = \u001b[3;91mFalse\u001b[0m, *args, **kwargs\u001b[1m)\u001b[0m ->                   \u001b[2m           \u001b[0m\n",
              "\u001b[2;36m           \u001b[0m         scivision.io.wrapper.PretrainedModel, \u001b[33mkwargs_given\u001b[0m=\u001b[32m'model_selection, allow_install'\u001b[0m \u001b[2m           \u001b[0m\n"
            ]
          },
          "metadata": {},
          "output_type": "display_data"
        },
        {
          "name": "stderr",
          "output_type": "stream",
          "text": [
            "2024-02-06 09:48:27.867486: I tensorflow/core/platform/cpu_feature_guard.cc:193] This TensorFlow binary is optimized with oneAPI Deep Neural Network Library (oneDNN) to use the following CPU instructions in performance-critical operations:  SSE4.1 SSE4.2\n",
            "To enable them in other operations, rebuild TensorFlow with the appropriate compiler flags.\n"
          ]
        },
        {
          "name": "stdout",
          "output_type": "stream",
          "text": [
            "Loading network weights from 'weights_best.h5'.\n",
            "Loading thresholds from 'thresholds.json'.\n",
            "Using default values: prob_thresh=0.7, nms_thresh=0.3.\n"
          ]
        },
        {
          "name": "stderr",
          "output_type": "stream",
          "text": [
            "2024-02-06 09:48:41.916766: I tensorflow/core/platform/cpu_feature_guard.cc:193] This TensorFlow binary is optimized with oneAPI Deep Neural Network Library (oneDNN) to use the following CPU instructions in performance-critical operations:  SSE4.1 SSE4.2\n",
            "To enable them in other operations, rebuild TensorFlow with the appropriate compiler flags.\n"
          ]
        },
        {
          "data": {
            "text/plain": [
              "scivision.PretrainedModel( \n",
              "  module='stardist_seed_pod', \n",
              "  model='model_3d', \n",
              "  source='https://github.com/alan-turing-institute/stardist-seed-pod' \n",
              "  pipe='DataPipe(input=<Parameter \"X: numpy.ndarray\">, output=<Parameter \"image: numpy.ndarray\">)' \n",
              ")"
            ]
          },
          "execution_count": 4,
          "metadata": {},
          "output_type": "execute_result"
        }
      ],
      "source": [
        "#load pretrained seed model\n",
        "model = load_pretrained_model(model_repo, model_selection='model_3d', allow_install=True)\n",
        "model"
      ]
    },
    {
      "cell_type": "markdown",
      "metadata": {
        "id": "JpTmdQTeITmW"
      },
      "source": [
        "# Extract seed size and shape metrics from a single image (one seed pod) with `Pixelflow`"
      ]
    },
    {
      "cell_type": "markdown",
      "metadata": {
        "id": "7zZFlSO7IX3K"
      },
      "source": [
        "## 4. Load images"
      ]
    },
    {
      "cell_type": "code",
      "execution_count": 5,
      "metadata": {
        "id": "Ity8jCBok5NL"
      },
      "outputs": [],
      "source": [
        "#load image\n",
        "img = imread('C0007197.tif')\n",
        "pod_name = 'C0007197'"
      ]
    },
    {
      "cell_type": "markdown",
      "metadata": {
        "id": "2NdtGSMoIkYB"
      },
      "source": [
        "## 5. Predict location, size and shape of seeds with `StarDist Seed` model using `Scivision `core function"
      ]
    },
    {
      "cell_type": "code",
      "execution_count": 6,
      "metadata": {
        "id": "e3qZLjGThenj"
      },
      "outputs": [],
      "source": [
        "#detect and segment seeds in image\n",
        "pred = model.predict(img)"
      ]
    },
    {
      "cell_type": "code",
      "execution_count": 7,
      "metadata": {
        "id": "4HcL3bR5hhV8"
      },
      "outputs": [],
      "source": [
        "#save seed labels created with Stardist Seed model\n",
        "np.save(Path('content/'+ pod_name + '_pred.npy'), pred)"
      ]
    },
    {
      "cell_type": "markdown",
      "metadata": {
        "id": "0xhMRjO-k52S"
      },
      "source": [
        "## 6. Calculate seed size, shape and arrangement metrics with `Pixelflow`"
      ]
    },
    {
      "cell_type": "code",
      "execution_count": 8,
      "metadata": {
        "colab": {
          "base_uri": "https://localhost:8080/",
          "height": 308
        },
        "id": "jk4vrj-yxaYD",
        "outputId": "a2b4d307-759f-44db-d7ec-6cea8d695597"
      },
      "outputs": [
        {
          "data": {
            "text/plain": [
              "<matplotlib.image.AxesImage at 0x1a6937d60>"
            ]
          },
          "execution_count": 8,
          "metadata": {},
          "output_type": "execute_result"
        },
        {
          "data": {
            "image/png": "[encoded data removed]",
            "text/plain": [
              "<Figure size 640x480 with 2 Axes>"
            ]
          },
          "metadata": {},
          "output_type": "display_data"
        }
      ],
      "source": [
        "#load image and mask\n",
        "img = imread('C0007197.tif')\n",
        "mask = pred\n",
        "\n",
        "fig, ax = plt.subplots(1, 2)\n",
        "ax[0].imshow(img[img.shape[0]//2])\n",
        "ax[1].imshow(mask[mask.shape[0]//2])"
      ]
    },
    {
      "cell_type": "code",
      "execution_count": 9,
      "metadata": {
        "colab": {
          "base_uri": "https://localhost:8080/"
        },
        "id": "dvbc-tEGp9qB",
        "outputId": "513d8a08-47aa-4790-e699-9a5d15042c50"
      },
      "outputs": [
        {
          "name": "stdout",
          "output_type": "stream",
          "text": [
            "ZYX image detected\n"
          ]
        }
      ],
      "source": [
        "#create table of size and shape metrics\n",
        "features = pixelflow(\n",
        "    mask,\n",
        "    img,\n",
        "    spacing=(0.03,0.03,0.03),\n",
        "    features=('label', 'bbox', 'centroid', 'volume', 'surface_area', 'equivalent_diameter', 'major_axis_length', 'minor_axis_length', 'sphericity', 'solidity', 'image_intensity'),\n",
        ")"
      ]
    },
    {
      "cell_type": "code",
      "execution_count": 10,
      "metadata": {
        "colab": {
          "base_uri": "https://localhost:8080/",
          "height": 697
        },
        "id": "fyxRqKPrqKKE",
        "outputId": "e1a7a6a1-36eb-4d17-f0fe-59c6e6a9df7c"
      },
      "outputs": [
        {
          "data": {
            "text/html": [
              "<table border=\"1\" class=\"dataframe\">\n",
              "  <thead>\n",
              "    <tr style=\"text-align: right;\">\n",
              "      <th></th>\n",
              "      <th>label</th>\n",
              "      <th>minor_axis_length</th>\n",
              "      <th>major_axis_length</th>\n",
              "      <th>equivalent_diameter</th>\n",
              "      <th>centroid-0</th>\n",
              "      <th>centroid-1</th>\n",
              "      <th>centroid-2</th>\n",
              "      <th>solidity</th>\n",
              "      <th>bbox-0</th>\n",
              "      <th>bbox-1</th>\n",
              "      <th>bbox-2</th>\n",
              "      <th>bbox-3</th>\n",
              "      <th>bbox-4</th>\n",
              "      <th>bbox-5</th>\n",
              "      <th>volume</th>\n",
              "      <th>sphericity</th>\n",
              "      <th>surface_area</th>\n",
              "    </tr>\n",
              "  </thead>\n",
              "  <tbody>\n",
              "    <tr>\n",
              "      <th>0</th>\n",
              "      <td>1</td>\n",
              "      <td>0.981203</td>\n",
              "      <td>1.125500</td>\n",
              "      <td>1.033669</td>\n",
              "      <td>7.057080</td>\n",
              "      <td>9.182320</td>\n",
              "      <td>6.880791</td>\n",
              "      <td>0.944606</td>\n",
              "      <td>218</td>\n",
              "      <td>290</td>\n",
              "      <td>212</td>\n",
              "      <td>252</td>\n",
              "      <td>323</td>\n",
              "      <td>249</td>\n",
              "      <td>0.578286</td>\n",
              "      <td>0.840046</td>\n",
              "      <td>3.995854</td>\n",
              "    </tr>\n",
              "    <tr>\n",
              "      <th>1</th>\n",
              "      <td>2</td>\n",
              "      <td>0.967379</td>\n",
              "      <td>1.094070</td>\n",
              "      <td>1.021443</td>\n",
              "      <td>8.402966</td>\n",
              "      <td>8.423045</td>\n",
              "      <td>6.856169</td>\n",
              "      <td>0.948071</td>\n",
              "      <td>264</td>\n",
              "      <td>263</td>\n",
              "      <td>213</td>\n",
              "      <td>296</td>\n",
              "      <td>299</td>\n",
              "      <td>246</td>\n",
              "      <td>0.558009</td>\n",
              "      <td>0.897028</td>\n",
              "      <td>3.654030</td>\n",
              "    </tr>\n",
              "    <tr>\n",
              "      <th>2</th>\n",
              "      <td>3</td>\n",
              "      <td>0.931310</td>\n",
              "      <td>1.081708</td>\n",
              "      <td>0.993973</td>\n",
              "      <td>9.786055</td>\n",
              "      <td>9.224335</td>\n",
              "      <td>6.038981</td>\n",
              "      <td>0.942772</td>\n",
              "      <td>311</td>\n",
              "      <td>292</td>\n",
              "      <td>184</td>\n",
              "      <td>342</td>\n",
              "      <td>324</td>\n",
              "      <td>219</td>\n",
              "      <td>0.514188</td>\n",
              "      <td>0.881338</td>\n",
              "      <td>3.521730</td>\n",
              "    </tr>\n",
              "    <tr>\n",
              "      <th>3</th>\n",
              "      <td>4</td>\n",
              "      <td>0.993609</td>\n",
              "      <td>1.141612</td>\n",
              "      <td>1.068682</td>\n",
              "      <td>10.523322</td>\n",
              "      <td>8.308133</td>\n",
              "      <td>6.350884</td>\n",
              "      <td>0.946646</td>\n",
              "      <td>334</td>\n",
              "      <td>259</td>\n",
              "      <td>194</td>\n",
              "      <td>368</td>\n",
              "      <td>296</td>\n",
              "      <td>229</td>\n",
              "      <td>0.639063</td>\n",
              "      <td>0.857784</td>\n",
              "      <td>4.182815</td>\n",
              "    </tr>\n",
              "    <tr>\n",
              "      <th>4</th>\n",
              "      <td>5</td>\n",
              "      <td>0.972978</td>\n",
              "      <td>1.101306</td>\n",
              "      <td>1.022085</td>\n",
              "      <td>11.903140</td>\n",
              "      <td>8.292396</td>\n",
              "      <td>6.207130</td>\n",
              "      <td>0.944272</td>\n",
              "      <td>381</td>\n",
              "      <td>259</td>\n",
              "      <td>191</td>\n",
              "      <td>412</td>\n",
              "      <td>295</td>\n",
              "      <td>224</td>\n",
              "      <td>0.559062</td>\n",
              "      <td>0.883887</td>\n",
              "      <td>3.713021</td>\n",
              "    </tr>\n",
              "    <tr>\n",
              "      <th>5</th>\n",
              "      <td>6</td>\n",
              "      <td>1.039169</td>\n",
              "      <td>1.100054</td>\n",
              "      <td>1.064269</td>\n",
              "      <td>12.965118</td>\n",
              "      <td>9.242935</td>\n",
              "      <td>5.640875</td>\n",
              "      <td>0.947243</td>\n",
              "      <td>415</td>\n",
              "      <td>292</td>\n",
              "      <td>172</td>\n",
              "      <td>450</td>\n",
              "      <td>325</td>\n",
              "      <td>206</td>\n",
              "      <td>0.631179</td>\n",
              "      <td>0.904121</td>\n",
              "      <td>3.935736</td>\n",
              "    </tr>\n",
              "    <tr>\n",
              "      <th>6</th>\n",
              "      <td>7</td>\n",
              "      <td>0.998850</td>\n",
              "      <td>1.109968</td>\n",
              "      <td>1.049012</td>\n",
              "      <td>13.755882</td>\n",
              "      <td>8.356721</td>\n",
              "      <td>6.144574</td>\n",
              "      <td>0.946674</td>\n",
              "      <td>442</td>\n",
              "      <td>261</td>\n",
              "      <td>188</td>\n",
              "      <td>475</td>\n",
              "      <td>297</td>\n",
              "      <td>222</td>\n",
              "      <td>0.604422</td>\n",
              "      <td>0.891599</td>\n",
              "      <td>3.877405</td>\n",
              "    </tr>\n",
              "    <tr>\n",
              "      <th>7</th>\n",
              "      <td>8</td>\n",
              "      <td>0.996690</td>\n",
              "      <td>1.113522</td>\n",
              "      <td>1.040445</td>\n",
              "      <td>14.965326</td>\n",
              "      <td>9.286118</td>\n",
              "      <td>5.784761</td>\n",
              "      <td>0.943947</td>\n",
              "      <td>482</td>\n",
              "      <td>293</td>\n",
              "      <td>176</td>\n",
              "      <td>516</td>\n",
              "      <td>326</td>\n",
              "      <td>211</td>\n",
              "      <td>0.589734</td>\n",
              "      <td>0.876820</td>\n",
              "      <td>3.878623</td>\n",
              "    </tr>\n",
              "    <tr>\n",
              "      <th>8</th>\n",
              "      <td>9</td>\n",
              "      <td>1.023502</td>\n",
              "      <td>1.117775</td>\n",
              "      <td>1.057196</td>\n",
              "      <td>16.262782</td>\n",
              "      <td>9.277510</td>\n",
              "      <td>5.758335</td>\n",
              "      <td>0.945024</td>\n",
              "      <td>525</td>\n",
              "      <td>292</td>\n",
              "      <td>175</td>\n",
              "      <td>559</td>\n",
              "      <td>326</td>\n",
              "      <td>210</td>\n",
              "      <td>0.618678</td>\n",
              "      <td>0.897796</td>\n",
              "      <td>3.910957</td>\n",
              "    </tr>\n",
              "    <tr>\n",
              "      <th>9</th>\n",
              "      <td>10</td>\n",
              "      <td>1.011778</td>\n",
              "      <td>1.101909</td>\n",
              "      <td>1.058210</td>\n",
              "      <td>18.252815</td>\n",
              "      <td>8.195342</td>\n",
              "      <td>6.873644</td>\n",
              "      <td>0.949508</td>\n",
              "      <td>592</td>\n",
              "      <td>256</td>\n",
              "      <td>213</td>\n",
              "      <td>626</td>\n",
              "      <td>291</td>\n",
              "      <td>247</td>\n",
              "      <td>0.620460</td>\n",
              "      <td>0.912699</td>\n",
              "      <td>3.854480</td>\n",
              "    </tr>\n",
              "    <tr>\n",
              "      <th>10</th>\n",
              "      <td>11</td>\n",
              "      <td>1.024113</td>\n",
              "      <td>1.076558</td>\n",
              "      <td>1.046852</td>\n",
              "      <td>18.387724</td>\n",
              "      <td>9.049965</td>\n",
              "      <td>6.177095</td>\n",
              "      <td>0.944834</td>\n",
              "      <td>596</td>\n",
              "      <td>285</td>\n",
              "      <td>190</td>\n",
              "      <td>630</td>\n",
              "      <td>319</td>\n",
              "      <td>224</td>\n",
              "      <td>0.600696</td>\n",
              "      <td>0.890054</td>\n",
              "      <td>3.868160</td>\n",
              "    </tr>\n",
              "    <tr>\n",
              "      <th>11</th>\n",
              "      <td>12</td>\n",
              "      <td>0.964471</td>\n",
              "      <td>1.104019</td>\n",
              "      <td>1.020652</td>\n",
              "      <td>20.204123</td>\n",
              "      <td>8.948896</td>\n",
              "      <td>6.644708</td>\n",
              "      <td>0.945739</td>\n",
              "      <td>659</td>\n",
              "      <td>282</td>\n",
              "      <td>204</td>\n",
              "      <td>690</td>\n",
              "      <td>316</td>\n",
              "      <td>240</td>\n",
              "      <td>0.556713</td>\n",
              "      <td>0.876403</td>\n",
              "      <td>3.734229</td>\n",
              "    </tr>\n",
              "    <tr>\n",
              "      <th>12</th>\n",
              "      <td>13</td>\n",
              "      <td>0.991399</td>\n",
              "      <td>1.146471</td>\n",
              "      <td>1.052763</td>\n",
              "      <td>21.099917</td>\n",
              "      <td>7.866746</td>\n",
              "      <td>7.754831</td>\n",
              "      <td>0.943381</td>\n",
              "      <td>687</td>\n",
              "      <td>246</td>\n",
              "      <td>240</td>\n",
              "      <td>720</td>\n",
              "      <td>279</td>\n",
              "      <td>278</td>\n",
              "      <td>0.610929</td>\n",
              "      <td>0.865637</td>\n",
              "      <td>4.022311</td>\n",
              "    </tr>\n",
              "    <tr>\n",
              "      <th>13</th>\n",
              "      <td>14</td>\n",
              "      <td>1.031616</td>\n",
              "      <td>1.095727</td>\n",
              "      <td>1.060492</td>\n",
              "      <td>21.757217</td>\n",
              "      <td>8.631629</td>\n",
              "      <td>7.164398</td>\n",
              "      <td>0.947522</td>\n",
              "      <td>709</td>\n",
              "      <td>271</td>\n",
              "      <td>222</td>\n",
              "      <td>742</td>\n",
              "      <td>306</td>\n",
              "      <td>258</td>\n",
              "      <td>0.624483</td>\n",
              "      <td>0.906223</td>\n",
              "      <td>3.898788</td>\n",
              "    </tr>\n",
              "    <tr>\n",
              "      <th>14</th>\n",
              "      <td>15</td>\n",
              "      <td>0.992368</td>\n",
              "      <td>1.135102</td>\n",
              "      <td>1.070860</td>\n",
              "      <td>22.622915</td>\n",
              "      <td>7.536766</td>\n",
              "      <td>8.240096</td>\n",
              "      <td>0.946916</td>\n",
              "      <td>738</td>\n",
              "      <td>234</td>\n",
              "      <td>256</td>\n",
              "      <td>770</td>\n",
              "      <td>270</td>\n",
              "      <td>294</td>\n",
              "      <td>0.642978</td>\n",
              "      <td>0.871074</td>\n",
              "      <td>4.135804</td>\n",
              "    </tr>\n",
              "    <tr>\n",
              "      <th>15</th>\n",
              "      <td>16</td>\n",
              "      <td>0.979231</td>\n",
              "      <td>1.123466</td>\n",
              "      <td>1.048356</td>\n",
              "      <td>24.057848</td>\n",
              "      <td>7.360396</td>\n",
              "      <td>8.585115</td>\n",
              "      <td>0.946018</td>\n",
              "      <td>786</td>\n",
              "      <td>227</td>\n",
              "      <td>268</td>\n",
              "      <td>818</td>\n",
              "      <td>264</td>\n",
              "      <td>304</td>\n",
              "      <td>0.603288</td>\n",
              "      <td>0.871888</td>\n",
              "      <td>3.960105</td>\n",
              "    </tr>\n",
              "    <tr>\n",
              "      <th>16</th>\n",
              "      <td>17</td>\n",
              "      <td>0.939268</td>\n",
              "      <td>1.075626</td>\n",
              "      <td>1.006022</td>\n",
              "      <td>25.219111</td>\n",
              "      <td>7.943015</td>\n",
              "      <td>8.195695</td>\n",
              "      <td>0.944918</td>\n",
              "      <td>825</td>\n",
              "      <td>248</td>\n",
              "      <td>257</td>\n",
              "      <td>856</td>\n",
              "      <td>283</td>\n",
              "      <td>291</td>\n",
              "      <td>0.533115</td>\n",
              "      <td>0.869452</td>\n",
              "      <td>3.656950</td>\n",
              "    </tr>\n",
              "    <tr>\n",
              "      <th>17</th>\n",
              "      <td>18</td>\n",
              "      <td>1.013690</td>\n",
              "      <td>1.096644</td>\n",
              "      <td>1.058716</td>\n",
              "      <td>26.068852</td>\n",
              "      <td>6.910379</td>\n",
              "      <td>9.311235</td>\n",
              "      <td>0.946453</td>\n",
              "      <td>852</td>\n",
              "      <td>213</td>\n",
              "      <td>293</td>\n",
              "      <td>886</td>\n",
              "      <td>248</td>\n",
              "      <td>328</td>\n",
              "      <td>0.621351</td>\n",
              "      <td>0.870457</td>\n",
              "      <td>4.045401</td>\n",
              "    </tr>\n",
              "    <tr>\n",
              "      <th>18</th>\n",
              "      <td>19</td>\n",
              "      <td>0.962153</td>\n",
              "      <td>1.141531</td>\n",
              "      <td>1.064875</td>\n",
              "      <td>26.413046</td>\n",
              "      <td>7.689681</td>\n",
              "      <td>8.734708</td>\n",
              "      <td>0.947021</td>\n",
              "      <td>865</td>\n",
              "      <td>238</td>\n",
              "      <td>274</td>\n",
              "      <td>897</td>\n",
              "      <td>275</td>\n",
              "      <td>310</td>\n",
              "      <td>0.632259</td>\n",
              "      <td>0.863547</td>\n",
              "      <td>4.125355</td>\n",
              "    </tr>\n",
              "    <tr>\n",
              "      <th>19</th>\n",
              "      <td>20</td>\n",
              "      <td>0.848878</td>\n",
              "      <td>1.124899</td>\n",
              "      <td>0.959285</td>\n",
              "      <td>28.189449</td>\n",
              "      <td>6.516726</td>\n",
              "      <td>9.806767</td>\n",
              "      <td>0.940088</td>\n",
              "      <td>926</td>\n",
              "      <td>200</td>\n",
              "      <td>311</td>\n",
              "      <td>955</td>\n",
              "      <td>236</td>\n",
              "      <td>343</td>\n",
              "      <td>0.462213</td>\n",
              "      <td>0.827153</td>\n",
              "      <td>3.495100</td>\n",
              "    </tr>\n",
              "  </tbody>\n",
              "</table>"
            ],
            "text/plain": [
              "    label  minor_axis_length  major_axis_length  equivalent_diameter  \\\n",
              "0       1           0.981203           1.125500             1.033669   \n",
              "1       2           0.967379           1.094070             1.021443   \n",
              "2       3           0.931310           1.081708             0.993973   \n",
              "3       4           0.993609           1.141612             1.068682   \n",
              "4       5           0.972978           1.101306             1.022085   \n",
              "5       6           1.039169           1.100054             1.064269   \n",
              "6       7           0.998850           1.109968             1.049012   \n",
              "7       8           0.996690           1.113522             1.040445   \n",
              "8       9           1.023502           1.117775             1.057196   \n",
              "9      10           1.011778           1.101909             1.058210   \n",
              "10     11           1.024113           1.076558             1.046852   \n",
              "11     12           0.964471           1.104019             1.020652   \n",
              "12     13           0.991399           1.146471             1.052763   \n",
              "13     14           1.031616           1.095727             1.060492   \n",
              "14     15           0.992368           1.135102             1.070860   \n",
              "15     16           0.979231           1.123466             1.048356   \n",
              "16     17           0.939268           1.075626             1.006022   \n",
              "17     18           1.013690           1.096644             1.058716   \n",
              "18     19           0.962153           1.141531             1.064875   \n",
              "19     20           0.848878           1.124899             0.959285   \n",
              "\n",
              "    centroid-0  centroid-1  centroid-2  solidity  bbox-0  bbox-1  bbox-2  \\\n",
              "0     7.057080    9.182320    6.880791  0.944606     218     290     212   \n",
              "1     8.402966    8.423045    6.856169  0.948071     264     263     213   \n",
              "2     9.786055    9.224335    6.038981  0.942772     311     292     184   \n",
              "3    10.523322    8.308133    6.350884  0.946646     334     259     194   \n",
              "4    11.903140    8.292396    6.207130  0.944272     381     259     191   \n",
              "5    12.965118    9.242935    5.640875  0.947243     415     292     172   \n",
              "6    13.755882    8.356721    6.144574  0.946674     442     261     188   \n",
              "7    14.965326    9.286118    5.784761  0.943947     482     293     176   \n",
              "8    16.262782    9.277510    5.758335  0.945024     525     292     175   \n",
              "9    18.252815    8.195342    6.873644  0.949508     592     256     213   \n",
              "10   18.387724    9.049965    6.177095  0.944834     596     285     190   \n",
              "11   20.204123    8.948896    6.644708  0.945739     659     282     204   \n",
              "12   21.099917    7.866746    7.754831  0.943381     687     246     240   \n",
              "13   21.757217    8.631629    7.164398  0.947522     709     271     222   \n",
              "14   22.622915    7.536766    8.240096  0.946916     738     234     256   \n",
              "15   24.057848    7.360396    8.585115  0.946018     786     227     268   \n",
              "16   25.219111    7.943015    8.195695  0.944918     825     248     257   \n",
              "17   26.068852    6.910379    9.311235  0.946453     852     213     293   \n",
              "18   26.413046    7.689681    8.734708  0.947021     865     238     274   \n",
              "19   28.189449    6.516726    9.806767  0.940088     926     200     311   \n",
              "\n",
              "    bbox-3  bbox-4  bbox-5    volume  sphericity  surface_area  \n",
              "0      252     323     249  0.578286    0.840046      3.995854  \n",
              "1      296     299     246  0.558009    0.897028      3.654030  \n",
              "2      342     324     219  0.514188    0.881338      3.521730  \n",
              "3      368     296     229  0.639063    0.857784      4.182815  \n",
              "4      412     295     224  0.559062    0.883887      3.713021  \n",
              "5      450     325     206  0.631179    0.904121      3.935736  \n",
              "6      475     297     222  0.604422    0.891599      3.877405  \n",
              "7      516     326     211  0.589734    0.876820      3.878623  \n",
              "8      559     326     210  0.618678    0.897796      3.910957  \n",
              "9      626     291     247  0.620460    0.912699      3.854480  \n",
              "10     630     319     224  0.600696    0.890054      3.868160  \n",
              "11     690     316     240  0.556713    0.876403      3.734229  \n",
              "12     720     279     278  0.610929    0.865637      4.022311  \n",
              "13     742     306     258  0.624483    0.906223      3.898788  \n",
              "14     770     270     294  0.642978    0.871074      4.135804  \n",
              "15     818     264     304  0.603288    0.871888      3.960105  \n",
              "16     856     283     291  0.533115    0.869452      3.656950  \n",
              "17     886     248     328  0.621351    0.870457      4.045401  \n",
              "18     897     275     310  0.632259    0.863547      4.125355  \n",
              "19     955     236     343  0.462213    0.827153      3.495100  "
            ]
          },
          "execution_count": 10,
          "metadata": {},
          "output_type": "execute_result"
        }
      ],
      "source": [
        "#show table of size and shape metrics in millimetres\n",
        "features"
      ]
    },
    {
      "cell_type": "code",
      "execution_count": 11,
      "metadata": {
        "id": "lDxhrIM5a_iT"
      },
      "outputs": [],
      "source": [
        "#output csv with measurements\n",
        "features.to_csv('C0007197.csv', header=True, index=False)"
      ]
    },
    {
      "cell_type": "markdown",
      "metadata": {
        "id": "_UQCDJ-qii-j"
      },
      "source": [
        "## 7. Save segmented images of each individual seed with `Pixelflow`"
      ]
    },
    {
      "cell_type": "code",
      "execution_count": 12,
      "metadata": {
        "id": "ORnlKSC7ilR7"
      },
      "outputs": [],
      "source": [
        "#make list of all seeds in mask, shift backwards by one to match index values\n",
        "X = list(features.features.label)\n",
        "for i in range(len(X)):\n",
        "    X[i] -= 1"
      ]
    },
    {
      "cell_type": "code",
      "execution_count": 13,
      "metadata": {
        "id": "p0kHzhYOipvu"
      },
      "outputs": [],
      "source": [
        "#save segmented images of all seeds within a seed pod\n",
        "for file in X:\n",
        "    np.save(pod_name + '_seed_' + str(features.features.label[file]) + '.npy', features.image_intensity[file])"
      ]
    },
    {
      "cell_type": "code",
      "execution_count": 14,
      "metadata": {
        "id": "cTRSQkhxiutf"
      },
      "outputs": [
        {
          "data": {
            "image/png": "[encoded data removed]",
            "text/plain": [
              "<Figure size 640x480 with 1 Axes>"
            ]
          },
          "metadata": {},
          "output_type": "display_data"
        }
      ],
      "source": [
        "#load single seed image\n",
        "seed_image = np.load('C0007197_seed_1.npy')\n",
        "\n",
        "fig = plt.imshow(seed_image[:, seed_image.shape[1]//2])"
      ]
    },
    {
      "cell_type": "markdown",
      "metadata": {
        "id": "lbEifhAHi2Ra"
      },
      "source": [
        "# Extract seed size and shape metrics and single seed images from multiple images (one seed pod per image) with `Pixelflow`"
      ]
    },
    {
      "cell_type": "code",
      "execution_count": 15,
      "metadata": {
        "id": "XaUXhlIMi4GP"
      },
      "outputs": [
        {
          "data": {
            "text/plain": [
              "['content/C0007158.tif',\n",
              " 'content/C0007159.tif',\n",
              " 'content/C0007198.tif',\n",
              " 'content/C0007205.tif',\n",
              " 'content/C0007226.tif',\n",
              " 'content/C0007239.tif']"
            ]
          },
          "execution_count": 15,
          "metadata": {},
          "output_type": "execute_result"
        }
      ],
      "source": [
        "#load all input images\n",
        "img_list = sorted(glob('content/*.tif'))\n",
        "img_list"
      ]
    },
    {
      "cell_type": "code",
      "execution_count": 16,
      "metadata": {
        "id": "DqtHzT1UjAi8"
      },
      "outputs": [
        {
          "name": "stdout",
          "output_type": "stream",
          "text": [
            "ZYX image detected\n",
            "ZYX image detected\n",
            "ZYX image detected\n",
            "ZYX image detected\n",
            "ZYX image detected\n",
            "ZYX image detected\n"
          ]
        }
      ],
      "source": [
        "for file in img_list:\n",
        "  #load image and mask\n",
        "  img = imread(file)\n",
        "  pod_name = re.split(\"[/.]\", file)[-2]\n",
        "  pred = model.predict(img)\n",
        "  np.save(Path('content/'+ pod_name + '_pred.npy'), pred)\n",
        "  mask = pred\n",
        "\n",
        "  #create table of size and shape metrics\n",
        "  features = pixelflow(\n",
        "    mask,\n",
        "    img,\n",
        "    spacing=(0.03,0.03,0.03),\n",
        "    features=('label', 'bbox', 'centroid', 'volume', 'surface_area', 'equivalent_diameter', 'major_axis_length', 'minor_axis_length', 'sphericity', 'solidity', 'image_intensity'),\n",
        "  )\n",
        "  #output csv with measurements\n",
        "  features.to_csv(pod_name + '.csv', header=True, index=False)\n",
        "\n",
        "  #make list of all seeds in mask, shift backwards by one to match index values\n",
        "  X = list(features.features.label)\n",
        "  for i in range(len(X)):\n",
        "      X[i] -= 1\n",
        "\n",
        "  #save segmented images of all seeds within a seed pod\n",
        "  for file in X:\n",
        "      np.save(pod_name + '_seed_' + str(features.features.label[file]) + '.npy', features.image_intensity[file])"
      ]
    },
    {
      "cell_type": "markdown",
      "metadata": {
        "id": "mmEnFvIXjKD3"
      },
      "source": [
        "## 8. Sort detected seeds into 2 seeds pod valves, and calculated related measurments (order in valve from seed pod beak to pedicel, space between seeds in each valve) with `'seedpod_valve_lowess_single.R'`"
      ]
    },
    {
      "cell_type": "code",
      "execution_count": 17,
      "metadata": {},
      "outputs": [],
      "source": [
        "import rpy2.robjects as robjects\n",
        "from rpy2.robjects import pandas2ri\n",
        "from rpy2.robjects import conversion, default_converter\n",
        "import rpy2.robjects.packages as rpackages\n",
        "from rpy2.robjects.vectors import StrVector"
      ]
    },
    {
      "cell_type": "code",
      "execution_count": 18,
      "metadata": {
        "id": "2AuRF7GDjQRC"
      },
      "outputs": [],
      "source": [
        "# R packages to install\n",
        "with conversion.localconverter(default_converter):\n",
        "  utils = rpackages.importr('utils')\n",
        "  utils.chooseCRANmirror(ind=1)\n",
        "  packnames = ('gplots', 'tidyverse')\n",
        "  # Selectively install what needs to be install.\n",
        "  names_to_install = [x for x in packnames if not rpackages.isinstalled(x)]\n",
        "  if len(names_to_install) > 0:\n",
        "      utils.install_packages(StrVector(names_to_install))"
      ]
    },
    {
      "cell_type": "code",
      "execution_count": 19,
      "metadata": {
        "id": "Eu596uoCjTE0"
      },
      "outputs": [],
      "source": [
        "# Defining the R script and loading the instance in Python\n",
        "r = robjects.r"
      ]
    },
    {
      "cell_type": "code",
      "execution_count": 20,
      "metadata": {
        "id": "uJzAuXx_jWma"
      },
      "outputs": [
        {
          "name": "stdout",
          "output_type": "stream",
          "text": [
            "ZYX image detected\n",
            "── Attaching core tidyverse packages ──────────────────────── tidyverse 2.0.0 ──\n",
            "✔ dplyr     1.1.4     ✔ readr     2.1.5\n",
            "✔ forcats   1.0.0     ✔ stringr   1.5.1\n",
            "✔ ggplot2   3.4.4     ✔ tibble    3.2.1\n",
            "✔ lubridate 1.9.3     ✔ tidyr     1.3.1\n",
            "✔ purrr     1.0.2     \n",
            "── Conflicts ────────────────────────────────────────── tidyverse_conflicts() ──\n",
            "✖ dplyr::filter() masks stats::filter()\n",
            "✖ dplyr::lag()    masks stats::lag()\n",
            "ℹ Use the conflicted package (<http://conflicted.r-lib.org/>) to force all conflicts to become errors\n"
          ]
        },
        {
          "data": {
            "text/html": [
              "<pre style=\"white-space:pre;overflow-x:auto;line-height:normal;font-family:Menlo,'DejaVu Sans Mono',consolas,'Courier New',monospace\"><span style=\"color: #7fbfbf; text-decoration-color: #7fbfbf\">[10:31:20] </span><span style=\"color: #800000; text-decoration-color: #800000\">WARNING </span> R<span style=\"font-weight: bold\">[</span>write to console<span style=\"font-weight: bold\">]</span>:                                                           <a href=\"file:///Users/ifenton/opt/anaconda3/envs/test_pxsd4/lib/python3.10/site-packages/rpy2/rinterface_lib/callbacks.py\" target=\"_blank\"><span style=\"color: #7f7f7f; text-decoration-color: #7f7f7f\">callbacks.py</span></a><span style=\"color: #7f7f7f; text-decoration-color: #7f7f7f\">:</span><a href=\"file:///Users/ifenton/opt/anaconda3/envs/test_pxsd4/lib/python3.10/site-packages/rpy2/rinterface_lib/callbacks.py#124\" target=\"_blank\"><span style=\"color: #7f7f7f; text-decoration-color: #7f7f7f\">124</span></a>\n",
              "<span style=\"color: #7fbfbf; text-decoration-color: #7fbfbf\">           </span>         Attaching package: ‘gplots’                                                    <span style=\"color: #7f7f7f; text-decoration-color: #7f7f7f\">                </span>\n",
              "<span style=\"color: #7fbfbf; text-decoration-color: #7fbfbf\">           </span>                                                                                        <span style=\"color: #7f7f7f; text-decoration-color: #7f7f7f\">                </span>\n",
              "<span style=\"color: #7fbfbf; text-decoration-color: #7fbfbf\">           </span>                                                                                        <span style=\"color: #7f7f7f; text-decoration-color: #7f7f7f\">                </span>\n",
              "</pre>\n"
            ],
            "text/plain": [
              "\u001b[2;36m[10:31:20]\u001b[0m\u001b[2;36m \u001b[0m\u001b[31mWARNING \u001b[0m R\u001b[1m[\u001b[0mwrite to console\u001b[1m]\u001b[0m:                                                           \u001b]8;id=840231;file:///Users/ifenton/opt/anaconda3/envs/test_pxsd4/lib/python3.10/site-packages/rpy2/rinterface_lib/callbacks.py\u001b\\\u001b[2mcallbacks.py\u001b[0m\u001b]8;;\u001b\\\u001b[2m:\u001b[0m\u001b]8;id=926700;file:///Users/ifenton/opt/anaconda3/envs/test_pxsd4/lib/python3.10/site-packages/rpy2/rinterface_lib/callbacks.py#124\u001b\\\u001b[2m124\u001b[0m\u001b]8;;\u001b\\\n",
              "\u001b[2;36m           \u001b[0m         Attaching package: ‘gplots’                                                    \u001b[2m                \u001b[0m\n",
              "\u001b[2;36m           \u001b[0m                                                                                        \u001b[2m                \u001b[0m\n",
              "\u001b[2;36m           \u001b[0m                                                                                        \u001b[2m                \u001b[0m\n"
            ]
          },
          "metadata": {},
          "output_type": "display_data"
        },
        {
          "data": {
            "text/html": [
              "<pre style=\"white-space:pre;overflow-x:auto;line-height:normal;font-family:Menlo,'DejaVu Sans Mono',consolas,'Courier New',monospace\"><span style=\"color: #7fbfbf; text-decoration-color: #7fbfbf\">           </span><span style=\"color: #800000; text-decoration-color: #800000\">WARNING </span> R<span style=\"font-weight: bold\">[</span>write to console<span style=\"font-weight: bold\">]</span>: The following object is masked from ‘package:stats’:      <a href=\"file:///Users/ifenton/opt/anaconda3/envs/test_pxsd4/lib/python3.10/site-packages/rpy2/rinterface_lib/callbacks.py\" target=\"_blank\"><span style=\"color: #7f7f7f; text-decoration-color: #7f7f7f\">callbacks.py</span></a><span style=\"color: #7f7f7f; text-decoration-color: #7f7f7f\">:</span><a href=\"file:///Users/ifenton/opt/anaconda3/envs/test_pxsd4/lib/python3.10/site-packages/rpy2/rinterface_lib/callbacks.py#124\" target=\"_blank\"><span style=\"color: #7f7f7f; text-decoration-color: #7f7f7f\">124</span></a>\n",
              "<span style=\"color: #7fbfbf; text-decoration-color: #7fbfbf\">           </span>                                                                                        <span style=\"color: #7f7f7f; text-decoration-color: #7f7f7f\">                </span>\n",
              "<span style=\"color: #7fbfbf; text-decoration-color: #7fbfbf\">           </span>             lowess                                                                     <span style=\"color: #7f7f7f; text-decoration-color: #7f7f7f\">                </span>\n",
              "<span style=\"color: #7fbfbf; text-decoration-color: #7fbfbf\">           </span>                                                                                        <span style=\"color: #7f7f7f; text-decoration-color: #7f7f7f\">                </span>\n",
              "<span style=\"color: #7fbfbf; text-decoration-color: #7fbfbf\">           </span>                                                                                        <span style=\"color: #7f7f7f; text-decoration-color: #7f7f7f\">                </span>\n",
              "</pre>\n"
            ],
            "text/plain": [
              "\u001b[2;36m          \u001b[0m\u001b[2;36m \u001b[0m\u001b[31mWARNING \u001b[0m R\u001b[1m[\u001b[0mwrite to console\u001b[1m]\u001b[0m: The following object is masked from ‘package:stats’:      \u001b]8;id=787429;file:///Users/ifenton/opt/anaconda3/envs/test_pxsd4/lib/python3.10/site-packages/rpy2/rinterface_lib/callbacks.py\u001b\\\u001b[2mcallbacks.py\u001b[0m\u001b]8;;\u001b\\\u001b[2m:\u001b[0m\u001b]8;id=409067;file:///Users/ifenton/opt/anaconda3/envs/test_pxsd4/lib/python3.10/site-packages/rpy2/rinterface_lib/callbacks.py#124\u001b\\\u001b[2m124\u001b[0m\u001b]8;;\u001b\\\n",
              "\u001b[2;36m           \u001b[0m                                                                                        \u001b[2m                \u001b[0m\n",
              "\u001b[2;36m           \u001b[0m             lowess                                                                     \u001b[2m                \u001b[0m\n",
              "\u001b[2;36m           \u001b[0m                                                                                        \u001b[2m                \u001b[0m\n",
              "\u001b[2;36m           \u001b[0m                                                                                        \u001b[2m                \u001b[0m\n"
            ]
          },
          "metadata": {},
          "output_type": "display_data"
        },
        {
          "name": "stdout",
          "output_type": "stream",
          "text": [
            "ZYX image detected\n",
            "ZYX image detected\n",
            "ZYX image detected\n",
            "ZYX image detected\n",
            "ZYX image detected\n"
          ]
        }
      ],
      "source": [
        "for file in img_list:\n",
        "  # Calculate the image data in pixelflow\n",
        "  img2 = imread(file)\n",
        "  pod_name = re.split(\"[/.]\", file)[-2]\n",
        "  mask2 = np.load(Path('content/'+ pod_name + '_pred.npy'))\n",
        "  features2 = pixelflow(mask2, img2, features=('label', 'bbox', 'centroid', 'volume', 'surface_area', 'equivalent_diameter', 'major_axis_length', 'minor_axis_length', 'sphericity', 'solidity', 'image_intensity'))\n",
        "  # Loading the function we have defined in R.\n",
        "  with conversion.localconverter(default_converter):\n",
        "      r['source']('seedpod_2D_valve_lowess_single.R')\n",
        "      seedpod_2D_single_r = robjects.globalenv['seedpod_2D_single']\n",
        "\n",
        "  #converting dataframe into r object for passing into r function\n",
        "  with (robjects.default_converter + pandas2ri.converter).context():\n",
        "    r_from_pd_df = robjects.conversion.get_conversion().py2rpy(features2.features)\n",
        "\n",
        "  #Invoking the R function and getting the result\n",
        "  with conversion.localconverter(default_converter):\n",
        "      df_result_r = seedpod_2D_single_r(r_from_pd_df, \"plot_\" + pod_name + \".png\")\n",
        "\n",
        "  #Converting it back to a pandas dataframe\n",
        "  with (robjects.default_converter + pandas2ri.converter).context():\n",
        "    df_result = robjects.conversion.get_conversion().rpy2py(df_result_r)"
      ]
    }
  ],
  "metadata": {
    "colab": {
      "provenance": []
    },
    "kernelspec": {
      "display_name": "Python 3",
      "name": "python3"
    },
    "language_info": {
      "codemirror_mode": {
        "name": "ipython",
        "version": 3
      },
      "file_extension": ".py",
      "mimetype": "text/x-python",
      "name": "python",
      "nbconvert_exporter": "python",
      "pygments_lexer": "ipython3",
      "version": "3.10.8"
    }
  },
  "nbformat": 4,
  "nbformat_minor": 0
}
