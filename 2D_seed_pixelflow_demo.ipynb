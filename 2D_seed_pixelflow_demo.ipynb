{
  "cells": [
    {
      "cell_type": "markdown",
      "metadata": {
        "id": "Kzr3_Gfs_SUQ"
      },
      "source": [
        "# Automated Extraction of 2D Seed Phenotype Data using a pre-trained `StarDist` model, `Scivision`, and `Pixelflow`"
      ]
    },
    {
      "cell_type": "markdown",
      "metadata": {},
      "source": [
        "### This notebook demonstrates how to use pixelflow to extract measurements of segmented objects from 2D imagery. This demo will use 2D lightbox images of Oilseed rape (*Brassica napus*) seedpods detected and segmented using an adapted StarDist model as described in [Corcoran et al. 2023](https://www.frontiersin.org/articles/10.3389/fpls.2023.1120182/full).\n",
        "\n",
        "### Example images required to run this notebook can be found [here](https://zenodo.org/records/8355920)\n",
        "\n",
        "### R code used to run valve sorting in this notebook is available from the [Scivision gallery github page](https://github.com/scivision-gallery/pixelflow_seed_demo/tree/main) seed (`'seedpod_2D_valve_lowess_single.R'`)"
      ]
    },
    {
      "cell_type": "markdown",
      "metadata": {
        "id": "7CbZyHOm7xSj"
      },
      "source": [
        "## 1. Load dependencies including `Scivision` and `Pixelflow`"
      ]
    },
    {
      "cell_type": "code",
      "execution_count": 1,
      "metadata": {
        "colab": {
          "base_uri": "https://localhost:8080/"
        },
        "id": "XnTG8vvG3ZSt",
        "outputId": "15bff507-c364-456f-c050-b9edc2589f30"
      },
      "outputs": [],
      "source": [
        "from pixelflow import pixelflow\n",
        "\n",
        "import matplotlib.pyplot as plt\n",
        "import numpy as np\n",
        "from tifffile import imread\n",
        "from pathlib import Path\n",
        "\n",
        "from glob import glob\n",
        "import re\n",
        "\n",
        "from scivision import default_catalog, load_pretrained_model"
      ]
    },
    {
      "cell_type": "markdown",
      "metadata": {
        "id": "TYmbhpkE8H0S"
      },
      "source": [
        "## 2. Find `StarDist Seed` model in `Scivision` model catalog"
      ]
    },
    {
      "cell_type": "code",
      "execution_count": 2,
      "metadata": {
        "colab": {
          "base_uri": "https://localhost:8080/",
          "height": 1000
        },
        "id": "3l0Tumw1NdjJ",
        "outputId": "98b3f805-dbcd-41c5-b2b5-1187d08267e5"
      },
      "outputs": [
        {
          "data": {
            "text/html": [
              "<div>\n",
              "<style scoped>\n",
              "    .dataframe tbody tr th:only-of-type {\n",
              "        vertical-align: middle;\n",
              "    }\n",
              "\n",
              "    .dataframe tbody tr th {\n",
              "        vertical-align: top;\n",
              "    }\n",
              "\n",
              "    .dataframe thead th {\n",
              "        text-align: right;\n",
              "    }\n",
              "</style>\n",
              "<table border=\"1\" class=\"dataframe\">\n",
              "  <thead>\n",
              "    <tr style=\"text-align: right;\">\n",
              "      <th></th>\n",
              "      <th>name</th>\n",
              "      <th>description</th>\n",
              "      <th>tasks</th>\n",
              "      <th>pkg_url</th>\n",
              "      <th>url</th>\n",
              "      <th>scivision_usable</th>\n",
              "      <th>institution</th>\n",
              "      <th>tags</th>\n",
              "    </tr>\n",
              "  </thead>\n",
              "  <tbody>\n",
              "    <tr>\n",
              "      <th>0</th>\n",
              "      <td>stardist</td>\n",
              "      <td>Single class object detection and segementatio...</td>\n",
              "      <td>(TaskEnum.object_detection, TaskEnum.segmentat...</td>\n",
              "      <td>git+https://github.com/stardist/stardist.git@m...</td>\n",
              "      <td>https://github.com/stardist/stardist</td>\n",
              "      <td>False</td>\n",
              "      <td>(epfl,)</td>\n",
              "      <td>(2D, 3D, optical-microscopy, xray, microtomogr...</td>\n",
              "    </tr>\n",
              "    <tr>\n",
              "      <th>1</th>\n",
              "      <td>PlantCV</td>\n",
              "      <td>Open-source image analysis software package ta...</td>\n",
              "      <td>(TaskEnum.object_detection, TaskEnum.segmentat...</td>\n",
              "      <td>git+https://github.com/danforthcenter/plantcv@...</td>\n",
              "      <td>https://github.com/danforthcenter/plantcv</td>\n",
              "      <td>False</td>\n",
              "      <td>(danforthcenter,)</td>\n",
              "      <td>(2D, hyperspectral, multispectral, near-infrar...</td>\n",
              "    </tr>\n",
              "    <tr>\n",
              "      <th>2</th>\n",
              "      <td>greenotyper</td>\n",
              "      <td>Greenotyper is an image analysis tool for larg...</td>\n",
              "      <td>(TaskEnum.segmentation)</td>\n",
              "      <td>git+https://github.com/MarniTausen/Greenotyper...</td>\n",
              "      <td>https://github.com/MarniTausen/Greenotyper</td>\n",
              "      <td>False</td>\n",
              "      <td>(MarniTausen,)</td>\n",
              "      <td>(2D, multispectral, plant-phenotyping, climate...</td>\n",
              "    </tr>\n",
              "    <tr>\n",
              "      <th>3</th>\n",
              "      <td>mapreader-plant</td>\n",
              "      <td>automated detection of plant patches in images...</td>\n",
              "      <td>(TaskEnum.object_detection, TaskEnum.classific...</td>\n",
              "      <td>git+https://github.com/alan-turing-institute/m...</td>\n",
              "      <td>https://github.com/alan-turing-institute/mapre...</td>\n",
              "      <td>True</td>\n",
              "      <td>(alan-turing-institute,)</td>\n",
              "      <td>(2D, plant, phenotype, rgb, biology, agriculture)</td>\n",
              "    </tr>\n",
              "    <tr>\n",
              "      <th>4</th>\n",
              "      <td>resnet50-plankton</td>\n",
              "      <td>automated classification of plankton images co...</td>\n",
              "      <td>(TaskEnum.classificiation)</td>\n",
              "      <td>git+https://github.com/alan-turing-institute/p...</td>\n",
              "      <td>https://github.com/alan-turing-institute/plank...</td>\n",
              "      <td>True</td>\n",
              "      <td>(alan-turing-institute, cefas, plankton-analyt...</td>\n",
              "      <td>(2D, plankton, ecology, environmental-science)</td>\n",
              "    </tr>\n",
              "    <tr>\n",
              "      <th>5</th>\n",
              "      <td>vedge-detector</td>\n",
              "      <td>automated detection of coastal vegetation edge...</td>\n",
              "      <td>(TaskEnum.segmentation)</td>\n",
              "      <td>git+https://github.com/MartinSJRogers/VEdge_De...</td>\n",
              "      <td>https://github.com/MartinSJRogers/VEdge_Detect...</td>\n",
              "      <td>True</td>\n",
              "      <td>(cambridge-university, birkbeck-university)</td>\n",
              "      <td>(2D, satellite, remote-sensing, ecology, envir...</td>\n",
              "    </tr>\n",
              "    <tr>\n",
              "      <th>6</th>\n",
              "      <td>image-classifiers</td>\n",
              "      <td>Scivision plugin for the image-classifiers pac...</td>\n",
              "      <td>(TaskEnum.classificiation)</td>\n",
              "      <td>git+https://github.com/alan-turing-institute/s...</td>\n",
              "      <td>https://github.com/alan-turing-institute/scivi...</td>\n",
              "      <td>True</td>\n",
              "      <td>(alan-turing-institute,)</td>\n",
              "      <td>(classification, 2D, image)</td>\n",
              "    </tr>\n",
              "    <tr>\n",
              "      <th>7</th>\n",
              "      <td>huggingface-classifiers</td>\n",
              "      <td>Selection of image classifiers taken from http...</td>\n",
              "      <td>(TaskEnum.classificiation)</td>\n",
              "      <td>git+https://github.com/alan-turing-institute/s...</td>\n",
              "      <td>https://github.com/alan-turing-institute/scivi...</td>\n",
              "      <td>True</td>\n",
              "      <td>(alan-turing-institute, huggingface)</td>\n",
              "      <td>(classification, 2D, image)</td>\n",
              "    </tr>\n",
              "    <tr>\n",
              "      <th>8</th>\n",
              "      <td>huggingface-segmentation</td>\n",
              "      <td>Selection of segmentation algorithms taken fro...</td>\n",
              "      <td>(TaskEnum.segmentation)</td>\n",
              "      <td>git+https://github.com/alan-turing-institute/s...</td>\n",
              "      <td>https://github.com/alan-turing-institute/scivi...</td>\n",
              "      <td>True</td>\n",
              "      <td>(alan-turing-institute, huggingface)</td>\n",
              "      <td>()</td>\n",
              "    </tr>\n",
              "    <tr>\n",
              "      <th>9</th>\n",
              "      <td>huggingface-object-detection</td>\n",
              "      <td>Selection of object detection algorithms taken...</td>\n",
              "      <td>(TaskEnum.object_detection)</td>\n",
              "      <td>git+https://github.com/alan-turing-institute/s...</td>\n",
              "      <td>https://github.com/alan-turing-institute/scivi...</td>\n",
              "      <td>True</td>\n",
              "      <td>(alan-turing-institute, huggingface)</td>\n",
              "      <td>()</td>\n",
              "    </tr>\n",
              "    <tr>\n",
              "      <th>10</th>\n",
              "      <td>detectreeRGB-forest</td>\n",
              "      <td>Detect changes in tall tree height with machin...</td>\n",
              "      <td>(TaskEnum.object_detection, TaskEnum.segmentat...</td>\n",
              "      <td>git+https://github.com/shmh40/detectreeRGB-tre...</td>\n",
              "      <td>https://github.com/shmh40/detectreeRGB-treecro...</td>\n",
              "      <td>True</td>\n",
              "      <td>(cambridge-university,)</td>\n",
              "      <td>(2D, satellite, remote-sensing, ecology, envir...</td>\n",
              "    </tr>\n",
              "    <tr>\n",
              "      <th>11</th>\n",
              "      <td>flower-classification-model</td>\n",
              "      <td>Identify flower species</td>\n",
              "      <td>(TaskEnum.classificiation)</td>\n",
              "      <td>git+https://github.com/alan-turing-institute/f...</td>\n",
              "      <td>https://github.com/alan-turing-institute/flowe...</td>\n",
              "      <td>True</td>\n",
              "      <td>(alan-turing-institute,)</td>\n",
              "      <td>(flowers, ecology)</td>\n",
              "    </tr>\n",
              "    <tr>\n",
              "      <th>12</th>\n",
              "      <td>butterfly-classification-model</td>\n",
              "      <td>Identify butterfly species</td>\n",
              "      <td>(TaskEnum.classificiation)</td>\n",
              "      <td>git+https://github.com/alan-turing-institute/b...</td>\n",
              "      <td>https://github.com/alan-turing-institute/butte...</td>\n",
              "      <td>True</td>\n",
              "      <td>(alan-turing-institute,)</td>\n",
              "      <td>(butterflies, insects, animals, ecology)</td>\n",
              "    </tr>\n",
              "    <tr>\n",
              "      <th>13</th>\n",
              "      <td>Affinity-VAE</td>\n",
              "      <td>A framework for automatic clustering and class...</td>\n",
              "      <td>(TaskEnum.classificiation)</td>\n",
              "      <td>https://github.com/alan-turing-institute/affin...</td>\n",
              "      <td>https://github.com/alan-turing-institute/affin...</td>\n",
              "      <td>False</td>\n",
              "      <td>(The Alan Turing Institute, Rutherford Appleto...</td>\n",
              "      <td>(Protein, Tomography, Cryo-EM, Shape regularis...</td>\n",
              "    </tr>\n",
              "    <tr>\n",
              "      <th>14</th>\n",
              "      <td>btrack</td>\n",
              "      <td>btrack is a Python library for multi object tr...</td>\n",
              "      <td>()</td>\n",
              "      <td>btrack</td>\n",
              "      <td>https://github.com/quantumjot/btrack</td>\n",
              "      <td>False</td>\n",
              "      <td>(The Alan Turing Institute, University College...</td>\n",
              "      <td>(cell tracking, bio imaging , optimisation, ba...</td>\n",
              "    </tr>\n",
              "    <tr>\n",
              "      <th>15</th>\n",
              "      <td>StarDist Seed</td>\n",
              "      <td>Pre-trained StarDist model for detection and s...</td>\n",
              "      <td>(TaskEnum.object_detection, TaskEnum.segmentat...</td>\n",
              "      <td>stardist_seed_pod</td>\n",
              "      <td>https://raw.githubusercontent.com/alan-turing-...</td>\n",
              "      <td>True</td>\n",
              "      <td>(The Alan Turing Institute, Rothamsted Research)</td>\n",
              "      <td>(2D, 3D, plant-phenotyping, agriculture, rgb, ...</td>\n",
              "    </tr>\n",
              "  </tbody>\n",
              "</table>\n",
              "</div>"
            ],
            "text/plain": [
              "                              name  \\\n",
              "0                         stardist   \n",
              "1                          PlantCV   \n",
              "2                      greenotyper   \n",
              "3                  mapreader-plant   \n",
              "4                resnet50-plankton   \n",
              "5                   vedge-detector   \n",
              "6                image-classifiers   \n",
              "7          huggingface-classifiers   \n",
              "8         huggingface-segmentation   \n",
              "9     huggingface-object-detection   \n",
              "10             detectreeRGB-forest   \n",
              "11     flower-classification-model   \n",
              "12  butterfly-classification-model   \n",
              "13                    Affinity-VAE   \n",
              "14                          btrack   \n",
              "15                   StarDist Seed   \n",
              "\n",
              "                                          description  \\\n",
              "0   Single class object detection and segementatio...   \n",
              "1   Open-source image analysis software package ta...   \n",
              "2   Greenotyper is an image analysis tool for larg...   \n",
              "3   automated detection of plant patches in images...   \n",
              "4   automated classification of plankton images co...   \n",
              "5   automated detection of coastal vegetation edge...   \n",
              "6   Scivision plugin for the image-classifiers pac...   \n",
              "7   Selection of image classifiers taken from http...   \n",
              "8   Selection of segmentation algorithms taken fro...   \n",
              "9   Selection of object detection algorithms taken...   \n",
              "10  Detect changes in tall tree height with machin...   \n",
              "11                            Identify flower species   \n",
              "12                         Identify butterfly species   \n",
              "13  A framework for automatic clustering and class...   \n",
              "14  btrack is a Python library for multi object tr...   \n",
              "15  Pre-trained StarDist model for detection and s...   \n",
              "\n",
              "                                                tasks  \\\n",
              "0   (TaskEnum.object_detection, TaskEnum.segmentat...   \n",
              "1   (TaskEnum.object_detection, TaskEnum.segmentat...   \n",
              "2                             (TaskEnum.segmentation)   \n",
              "3   (TaskEnum.object_detection, TaskEnum.classific...   \n",
              "4                          (TaskEnum.classificiation)   \n",
              "5                             (TaskEnum.segmentation)   \n",
              "6                          (TaskEnum.classificiation)   \n",
              "7                          (TaskEnum.classificiation)   \n",
              "8                             (TaskEnum.segmentation)   \n",
              "9                         (TaskEnum.object_detection)   \n",
              "10  (TaskEnum.object_detection, TaskEnum.segmentat...   \n",
              "11                         (TaskEnum.classificiation)   \n",
              "12                         (TaskEnum.classificiation)   \n",
              "13                         (TaskEnum.classificiation)   \n",
              "14                                                 ()   \n",
              "15  (TaskEnum.object_detection, TaskEnum.segmentat...   \n",
              "\n",
              "                                              pkg_url  \\\n",
              "0   git+https://github.com/stardist/stardist.git@m...   \n",
              "1   git+https://github.com/danforthcenter/plantcv@...   \n",
              "2   git+https://github.com/MarniTausen/Greenotyper...   \n",
              "3   git+https://github.com/alan-turing-institute/m...   \n",
              "4   git+https://github.com/alan-turing-institute/p...   \n",
              "5   git+https://github.com/MartinSJRogers/VEdge_De...   \n",
              "6   git+https://github.com/alan-turing-institute/s...   \n",
              "7   git+https://github.com/alan-turing-institute/s...   \n",
              "8   git+https://github.com/alan-turing-institute/s...   \n",
              "9   git+https://github.com/alan-turing-institute/s...   \n",
              "10  git+https://github.com/shmh40/detectreeRGB-tre...   \n",
              "11  git+https://github.com/alan-turing-institute/f...   \n",
              "12  git+https://github.com/alan-turing-institute/b...   \n",
              "13  https://github.com/alan-turing-institute/affin...   \n",
              "14                                             btrack   \n",
              "15                                  stardist_seed_pod   \n",
              "\n",
              "                                                  url  scivision_usable  \\\n",
              "0                https://github.com/stardist/stardist             False   \n",
              "1           https://github.com/danforthcenter/plantcv             False   \n",
              "2          https://github.com/MarniTausen/Greenotyper             False   \n",
              "3   https://github.com/alan-turing-institute/mapre...              True   \n",
              "4   https://github.com/alan-turing-institute/plank...              True   \n",
              "5   https://github.com/MartinSJRogers/VEdge_Detect...              True   \n",
              "6   https://github.com/alan-turing-institute/scivi...              True   \n",
              "7   https://github.com/alan-turing-institute/scivi...              True   \n",
              "8   https://github.com/alan-turing-institute/scivi...              True   \n",
              "9   https://github.com/alan-turing-institute/scivi...              True   \n",
              "10  https://github.com/shmh40/detectreeRGB-treecro...              True   \n",
              "11  https://github.com/alan-turing-institute/flowe...              True   \n",
              "12  https://github.com/alan-turing-institute/butte...              True   \n",
              "13  https://github.com/alan-turing-institute/affin...             False   \n",
              "14               https://github.com/quantumjot/btrack             False   \n",
              "15  https://raw.githubusercontent.com/alan-turing-...              True   \n",
              "\n",
              "                                          institution  \\\n",
              "0                                             (epfl,)   \n",
              "1                                   (danforthcenter,)   \n",
              "2                                      (MarniTausen,)   \n",
              "3                            (alan-turing-institute,)   \n",
              "4   (alan-turing-institute, cefas, plankton-analyt...   \n",
              "5         (cambridge-university, birkbeck-university)   \n",
              "6                            (alan-turing-institute,)   \n",
              "7                (alan-turing-institute, huggingface)   \n",
              "8                (alan-turing-institute, huggingface)   \n",
              "9                (alan-turing-institute, huggingface)   \n",
              "10                            (cambridge-university,)   \n",
              "11                           (alan-turing-institute,)   \n",
              "12                           (alan-turing-institute,)   \n",
              "13  (The Alan Turing Institute, Rutherford Appleto...   \n",
              "14  (The Alan Turing Institute, University College...   \n",
              "15   (The Alan Turing Institute, Rothamsted Research)   \n",
              "\n",
              "                                                 tags  \n",
              "0   (2D, 3D, optical-microscopy, xray, microtomogr...  \n",
              "1   (2D, hyperspectral, multispectral, near-infrar...  \n",
              "2   (2D, multispectral, plant-phenotyping, climate...  \n",
              "3   (2D, plant, phenotype, rgb, biology, agriculture)  \n",
              "4      (2D, plankton, ecology, environmental-science)  \n",
              "5   (2D, satellite, remote-sensing, ecology, envir...  \n",
              "6                         (classification, 2D, image)  \n",
              "7                         (classification, 2D, image)  \n",
              "8                                                  ()  \n",
              "9                                                  ()  \n",
              "10  (2D, satellite, remote-sensing, ecology, envir...  \n",
              "11                                 (flowers, ecology)  \n",
              "12           (butterflies, insects, animals, ecology)  \n",
              "13  (Protein, Tomography, Cryo-EM, Shape regularis...  \n",
              "14  (cell tracking, bio imaging , optimisation, ba...  \n",
              "15  (2D, 3D, plant-phenotyping, agriculture, rgb, ...  "
            ]
          },
          "execution_count": 2,
          "metadata": {},
          "output_type": "execute_result"
        }
      ],
      "source": [
        "# load full scivision model catalog\n",
        "models_catalog = default_catalog.models.to_dataframe()\n",
        "models_catalog"
      ]
    },
    {
      "cell_type": "code",
      "execution_count": 3,
      "metadata": {
        "colab": {
          "base_uri": "https://localhost:8080/",
          "height": 52
        },
        "id": "lwNcgpjlNwiO",
        "outputId": "a4d13e7f-a7d3-4afd-dde8-484f810d0f9f"
      },
      "outputs": [
        {
          "data": {
            "text/plain": [
              "FlexibleUrl('https://raw.githubusercontent.com/alan-turing-institute/stardist-seed-pod/main/.scivision/model.yml', scheme='https', host='raw.githubusercontent.com', tld='com', host_type='domain', path='/alan-turing-institute/stardist-seed-pod/main/.scivision/model.yml')"
            ]
          },
          "execution_count": 3,
          "metadata": {},
          "output_type": "execute_result"
        }
      ],
      "source": [
        "# get github repository link for the model we want to use (StarDist Seed)\n",
        "model_repo = models_catalog[models_catalog.name == \"StarDist Seed\"].url.item()\n",
        "model_repo"
      ]
    },
    {
      "cell_type": "markdown",
      "metadata": {
        "id": "6GkKvJyQ8m8K"
      },
      "source": [
        "## 3. Load `StarDist Seed` model from `Scivision` model catalog"
      ]
    },
    {
      "cell_type": "code",
      "execution_count": 4,
      "metadata": {
        "colab": {
          "base_uri": "https://localhost:8080/"
        },
        "id": "WBOSjoE4PfGf",
        "outputId": "9e46437b-9ca0-48c9-f652-91081e9aba2e"
      },
      "outputs": [
        {
          "data": {
            "text/html": [
              "<pre style=\"white-space:pre;overflow-x:auto;line-height:normal;font-family:Menlo,'DejaVu Sans Mono',consolas,'Courier New',monospace\"><span style=\"color: #7fbfbf; text-decoration-color: #7fbfbf\">[11:59:50] </span><span style=\"color: #000080; text-decoration-color: #000080\">INFO    </span> <span style=\"color: #808000; text-decoration-color: #808000\">Call</span>=<span style=\"color: #008000; text-decoration-color: #008000\">'load_pretrained_model'</span>, <span style=\"color: #808000; text-decoration-color: #808000\">module</span>=<span style=\"color: #008000; text-decoration-color: #008000\">'scivision.io.reader'</span>, <span style=\"color: #808000; text-decoration-color: #808000\">signature</span>=<span style=\"font-weight: bold\">(</span>path:        <a href=\"file:///Users/ifenton/opt/anaconda3/envs/test_pxsd4/lib/python3.10/site-packages/scivision/koala.py\" target=\"_blank\"><span style=\"color: #7f7f7f; text-decoration-color: #7f7f7f\">koala.py</span></a><span style=\"color: #7f7f7f; text-decoration-color: #7f7f7f\">:</span><a href=\"file:///Users/ifenton/opt/anaconda3/envs/test_pxsd4/lib/python3.10/site-packages/scivision/koala.py#49\" target=\"_blank\"><span style=\"color: #7f7f7f; text-decoration-color: #7f7f7f\">49</span></a>\n",
              "<span style=\"color: #7fbfbf; text-decoration-color: #7fbfbf\">           </span>         os.PathLike, branch: str = <span style=\"color: #008000; text-decoration-color: #008000\">'main'</span>, allow_install: bool = <span style=\"color: #ff0000; text-decoration-color: #ff0000; font-style: italic\">False</span>, model_selection:    <span style=\"color: #7f7f7f; text-decoration-color: #7f7f7f\">           </span>\n",
              "<span style=\"color: #7fbfbf; text-decoration-color: #7fbfbf\">           </span>         str = <span style=\"color: #008000; text-decoration-color: #008000\">'default'</span>, load_multiple: bool = <span style=\"color: #ff0000; text-decoration-color: #ff0000; font-style: italic\">False</span>, *args, **kwargs<span style=\"font-weight: bold\">)</span> -&gt;                   <span style=\"color: #7f7f7f; text-decoration-color: #7f7f7f\">           </span>\n",
              "<span style=\"color: #7fbfbf; text-decoration-color: #7fbfbf\">           </span>         scivision.io.wrapper.PretrainedModel, <span style=\"color: #808000; text-decoration-color: #808000\">kwargs_given</span>=<span style=\"color: #008000; text-decoration-color: #008000\">'model_selection, allow_install'</span> <span style=\"color: #7f7f7f; text-decoration-color: #7f7f7f\">           </span>\n",
              "</pre>\n"
            ],
            "text/plain": [
              "\u001b[2;36m[11:59:50]\u001b[0m\u001b[2;36m \u001b[0m\u001b[34mINFO    \u001b[0m \u001b[33mCall\u001b[0m=\u001b[32m'load_pretrained_model'\u001b[0m, \u001b[33mmodule\u001b[0m=\u001b[32m'scivision.io.reader'\u001b[0m, \u001b[33msignature\u001b[0m=\u001b[1m(\u001b[0mpath:        \u001b]8;id=735983;file:///Users/ifenton/opt/anaconda3/envs/test_pxsd4/lib/python3.10/site-packages/scivision/koala.py\u001b\\\u001b[2mkoala.py\u001b[0m\u001b]8;;\u001b\\\u001b[2m:\u001b[0m\u001b]8;id=267354;file:///Users/ifenton/opt/anaconda3/envs/test_pxsd4/lib/python3.10/site-packages/scivision/koala.py#49\u001b\\\u001b[2m49\u001b[0m\u001b]8;;\u001b\\\n",
              "\u001b[2;36m           \u001b[0m         os.PathLike, branch: str = \u001b[32m'main'\u001b[0m, allow_install: bool = \u001b[3;91mFalse\u001b[0m, model_selection:    \u001b[2m           \u001b[0m\n",
              "\u001b[2;36m           \u001b[0m         str = \u001b[32m'default'\u001b[0m, load_multiple: bool = \u001b[3;91mFalse\u001b[0m, *args, **kwargs\u001b[1m)\u001b[0m ->                   \u001b[2m           \u001b[0m\n",
              "\u001b[2;36m           \u001b[0m         scivision.io.wrapper.PretrainedModel, \u001b[33mkwargs_given\u001b[0m=\u001b[32m'model_selection, allow_install'\u001b[0m \u001b[2m           \u001b[0m\n"
            ]
          },
          "metadata": {},
          "output_type": "display_data"
        },
        {
          "name": "stderr",
          "output_type": "stream",
          "text": [
            "2024-02-05 11:59:50.685966: I tensorflow/core/platform/cpu_feature_guard.cc:193] This TensorFlow binary is optimized with oneAPI Deep Neural Network Library (oneDNN) to use the following CPU instructions in performance-critical operations:  SSE4.1 SSE4.2\n",
            "To enable them in other operations, rebuild TensorFlow with the appropriate compiler flags.\n",
            "2024-02-05 11:59:53.301841: I tensorflow/core/platform/cpu_feature_guard.cc:193] This TensorFlow binary is optimized with oneAPI Deep Neural Network Library (oneDNN) to use the following CPU instructions in performance-critical operations:  SSE4.1 SSE4.2\n",
            "To enable them in other operations, rebuild TensorFlow with the appropriate compiler flags.\n"
          ]
        },
        {
          "name": "stdout",
          "output_type": "stream",
          "text": [
            "Loading network weights from 'weights_best.h5'.\n",
            "Loading thresholds from 'thresholds.json'.\n",
            "Using default values: prob_thresh=0.718646, nms_thresh=0.3.\n"
          ]
        },
        {
          "data": {
            "text/plain": [
              "scivision.PretrainedModel( \n",
              "  module='stardist_seed_pod', \n",
              "  model='model_2d', \n",
              "  source='https://github.com/alan-turing-institute/stardist-seed-pod' \n",
              "  pipe='DataPipe(input=<Parameter \"X: numpy.ndarray\">, output=<Parameter \"image: numpy.ndarray\">)' \n",
              ")"
            ]
          },
          "execution_count": 4,
          "metadata": {},
          "output_type": "execute_result"
        }
      ],
      "source": [
        "# load pretrained seed model\n",
        "model = load_pretrained_model(model_repo, model_selection= \"model_2d\", allow_install=True)\n",
        "model"
      ]
    },
    {
      "cell_type": "markdown",
      "metadata": {
        "id": "6k4ikoKfFtC0"
      },
      "source": [
        "# Extract seed size and shape metrics from a single image (one seed pod) with `Pixelflow`"
      ]
    },
    {
      "cell_type": "markdown",
      "metadata": {
        "id": "5vLXtHqo85jR"
      },
      "source": [
        "## 4. Load images"
      ]
    },
    {
      "cell_type": "code",
      "execution_count": 5,
      "metadata": {
        "id": "izc8BpE_b_9I"
      },
      "outputs": [],
      "source": [
        "# load image\n",
        "img = imread('01_Shengliyoucai_main_A.tif')\n",
        "pod_name = '01_Shengliyoucai_main_A'"
      ]
    },
    {
      "cell_type": "markdown",
      "metadata": {
        "id": "tCChEOIp8-Sp"
      },
      "source": [
        "## 5. Predict location, size and shape of seeds with `StarDist Seed` model using `Scivision `core function"
      ]
    },
    {
      "cell_type": "code",
      "execution_count": 6,
      "metadata": {
        "id": "hPmIhnyzcHB0"
      },
      "outputs": [],
      "source": [
        "# detect and segment seeds in image\n",
        "pred = model.predict(img)"
      ]
    },
    {
      "cell_type": "code",
      "execution_count": 7,
      "metadata": {
        "id": "73LPibkofq72"
      },
      "outputs": [],
      "source": [
        "# save seed labels created with Stardist Seed model\n",
        "np.save(Path('content/' + pod_name + '_pred.npy'), pred)"
      ]
    },
    {
      "cell_type": "markdown",
      "metadata": {
        "id": "I4KnObP6-TlB"
      },
      "source": [
        "## 6. Calculate seed size, shape and arrangement metrics with `Pixelflow`"
      ]
    },
    {
      "cell_type": "code",
      "execution_count": 8,
      "metadata": {
        "colab": {
          "base_uri": "https://localhost:8080/",
          "height": 233
        },
        "id": "AtMqE9BD3ZSw",
        "outputId": "984165ff-97d1-40a3-c2dd-acfcc38a5036"
      },
      "outputs": [
        {
          "data": {
            "text/plain": [
              "<matplotlib.image.AxesImage at 0x114087c10>"
            ]
          },
          "execution_count": 8,
          "metadata": {},
          "output_type": "execute_result"
        },
        {
          "data": {
            "image/png": "[encoded data removed]",
            "text/plain": [
              "<Figure size 640x480 with 2 Axes>"
            ]
          },
          "metadata": {},
          "output_type": "display_data"
        }
      ],
      "source": [
        "# load image and mask\n",
        "img = imread('01_Shengliyoucai_main_A.tif')\n",
        "mask = pred\n",
        "\n",
        "fig, ax = plt.subplots(1, 2)\n",
        "ax[0].imshow(img)\n",
        "ax[1].imshow(mask)"
      ]
    },
    {
      "cell_type": "code",
      "execution_count": 9,
      "metadata": {
        "colab": {
          "base_uri": "https://localhost:8080/"
        },
        "id": "A6S0OaG83ZS0",
        "outputId": "d804c9cc-74d6-4813-cac7-80aca876860c"
      },
      "outputs": [
        {
          "name": "stdout",
          "output_type": "stream",
          "text": [
            "YX image detected\n"
          ]
        }
      ],
      "source": [
        "# create table of size and shape metrics\n",
        "features = pixelflow(\n",
        "    mask,\n",
        "    img,\n",
        "    spacing=(0.03,0.03),\n",
        "    features=('label', 'bbox', 'centroid', 'area', 'equivalent_diameter', 'major_axis_length', 'minor_axis_length', 'orientation', 'solidity', 'image_intensity')\n",
        ")"
      ]
    },
    {
      "cell_type": "code",
      "execution_count": 10,
      "metadata": {
        "colab": {
          "base_uri": "https://localhost:8080/",
          "height": 959
        },
        "id": "WWRR6VC33ZS1",
        "outputId": "d789d562-a52e-4075-fb75-d778f16a2061"
      },
      "outputs": [
        {
          "data": {
            "text/html": [
              "<table border=\"1\" class=\"dataframe\">\n",
              "  <thead>\n",
              "    <tr style=\"text-align: right;\">\n",
              "      <th></th>\n",
              "      <th>label</th>\n",
              "      <th>bbox-0</th>\n",
              "      <th>bbox-1</th>\n",
              "      <th>bbox-2</th>\n",
              "      <th>bbox-3</th>\n",
              "      <th>centroid-0</th>\n",
              "      <th>centroid-1</th>\n",
              "      <th>area</th>\n",
              "      <th>equivalent_diameter</th>\n",
              "      <th>major_axis_length</th>\n",
              "      <th>minor_axis_length</th>\n",
              "      <th>orientation</th>\n",
              "      <th>solidity</th>\n",
              "    </tr>\n",
              "  </thead>\n",
              "  <tbody>\n",
              "    <tr>\n",
              "      <th>0</th>\n",
              "      <td>1</td>\n",
              "      <td>835</td>\n",
              "      <td>3742</td>\n",
              "      <td>1007</td>\n",
              "      <td>3946</td>\n",
              "      <td>27.659814</td>\n",
              "      <td>115.256195</td>\n",
              "      <td>26.5113</td>\n",
              "      <td>5.809926</td>\n",
              "      <td>6.408291</td>\n",
              "      <td>5.293776</td>\n",
              "      <td>-1.531574</td>\n",
              "      <td>0.991785</td>\n",
              "    </tr>\n",
              "    <tr>\n",
              "      <th>1</th>\n",
              "      <td>2</td>\n",
              "      <td>846</td>\n",
              "      <td>3470</td>\n",
              "      <td>1014</td>\n",
              "      <td>3652</td>\n",
              "      <td>27.888554</td>\n",
              "      <td>106.812965</td>\n",
              "      <td>23.2209</td>\n",
              "      <td>5.437441</td>\n",
              "      <td>5.688197</td>\n",
              "      <td>5.217015</td>\n",
              "      <td>1.524893</td>\n",
              "      <td>0.992079</td>\n",
              "    </tr>\n",
              "    <tr>\n",
              "      <th>2</th>\n",
              "      <td>3</td>\n",
              "      <td>859</td>\n",
              "      <td>3185</td>\n",
              "      <td>1023</td>\n",
              "      <td>3350</td>\n",
              "      <td>28.205184</td>\n",
              "      <td>98.013696</td>\n",
              "      <td>20.5407</td>\n",
              "      <td>5.114023</td>\n",
              "      <td>5.160864</td>\n",
              "      <td>5.084435</td>\n",
              "      <td>1.232456</td>\n",
              "      <td>0.991442</td>\n",
              "    </tr>\n",
              "    <tr>\n",
              "      <th>3</th>\n",
              "      <td>4</td>\n",
              "      <td>861</td>\n",
              "      <td>4054</td>\n",
              "      <td>1022</td>\n",
              "      <td>4221</td>\n",
              "      <td>28.218190</td>\n",
              "      <td>124.127465</td>\n",
              "      <td>20.5902</td>\n",
              "      <td>5.120181</td>\n",
              "      <td>5.244345</td>\n",
              "      <td>5.017989</td>\n",
              "      <td>-1.373028</td>\n",
              "      <td>0.992280</td>\n",
              "    </tr>\n",
              "    <tr>\n",
              "      <th>4</th>\n",
              "      <td>5</td>\n",
              "      <td>877</td>\n",
              "      <td>2725</td>\n",
              "      <td>1060</td>\n",
              "      <td>2948</td>\n",
              "      <td>29.050008</td>\n",
              "      <td>85.017869</td>\n",
              "      <td>30.9213</td>\n",
              "      <td>6.274569</td>\n",
              "      <td>6.983425</td>\n",
              "      <td>5.664964</td>\n",
              "      <td>-1.470105</td>\n",
              "      <td>0.992719</td>\n",
              "    </tr>\n",
              "    <tr>\n",
              "      <th>5</th>\n",
              "      <td>6</td>\n",
              "      <td>881</td>\n",
              "      <td>4416</td>\n",
              "      <td>1030</td>\n",
              "      <td>4600</td>\n",
              "      <td>28.647920</td>\n",
              "      <td>135.176317</td>\n",
              "      <td>20.8566</td>\n",
              "      <td>5.153198</td>\n",
              "      <td>5.761219</td>\n",
              "      <td>4.633875</td>\n",
              "      <td>-1.469292</td>\n",
              "      <td>0.991189</td>\n",
              "    </tr>\n",
              "    <tr>\n",
              "      <th>6</th>\n",
              "      <td>7</td>\n",
              "      <td>888</td>\n",
              "      <td>4241</td>\n",
              "      <td>1026</td>\n",
              "      <td>4417</td>\n",
              "      <td>28.731418</td>\n",
              "      <td>129.842832</td>\n",
              "      <td>18.3555</td>\n",
              "      <td>4.834351</td>\n",
              "      <td>5.516655</td>\n",
              "      <td>4.257249</td>\n",
              "      <td>-1.566841</td>\n",
              "      <td>0.989376</td>\n",
              "    </tr>\n",
              "    <tr>\n",
              "      <th>7</th>\n",
              "      <td>8</td>\n",
              "      <td>907</td>\n",
              "      <td>4796</td>\n",
              "      <td>1064</td>\n",
              "      <td>4988</td>\n",
              "      <td>29.551040</td>\n",
              "      <td>146.720336</td>\n",
              "      <td>23.0472</td>\n",
              "      <td>5.417066</td>\n",
              "      <td>5.982115</td>\n",
              "      <td>4.933751</td>\n",
              "      <td>-1.492895</td>\n",
              "      <td>0.991597</td>\n",
              "    </tr>\n",
              "    <tr>\n",
              "      <th>8</th>\n",
              "      <td>9</td>\n",
              "      <td>910</td>\n",
              "      <td>2463</td>\n",
              "      <td>1070</td>\n",
              "      <td>2615</td>\n",
              "      <td>29.664914</td>\n",
              "      <td>76.141714</td>\n",
              "      <td>18.5391</td>\n",
              "      <td>4.858468</td>\n",
              "      <td>5.006396</td>\n",
              "      <td>4.731858</td>\n",
              "      <td>-0.154559</td>\n",
              "      <td>0.991433</td>\n",
              "    </tr>\n",
              "    <tr>\n",
              "      <th>9</th>\n",
              "      <td>10</td>\n",
              "      <td>924</td>\n",
              "      <td>4993</td>\n",
              "      <td>1093</td>\n",
              "      <td>5161</td>\n",
              "      <td>30.250303</td>\n",
              "      <td>152.281324</td>\n",
              "      <td>21.5325</td>\n",
              "      <td>5.236032</td>\n",
              "      <td>5.288282</td>\n",
              "      <td>5.204249</td>\n",
              "      <td>0.673634</td>\n",
              "      <td>0.991710</td>\n",
              "    </tr>\n",
              "    <tr>\n",
              "      <th>10</th>\n",
              "      <td>11</td>\n",
              "      <td>928</td>\n",
              "      <td>2178</td>\n",
              "      <td>1132</td>\n",
              "      <td>2370</td>\n",
              "      <td>30.876890</td>\n",
              "      <td>68.204226</td>\n",
              "      <td>29.6649</td>\n",
              "      <td>6.145773</td>\n",
              "      <td>6.356039</td>\n",
              "      <td>5.963699</td>\n",
              "      <td>0.027018</td>\n",
              "      <td>0.992174</td>\n",
              "    </tr>\n",
              "    <tr>\n",
              "      <th>11</th>\n",
              "      <td>12</td>\n",
              "      <td>928</td>\n",
              "      <td>5166</td>\n",
              "      <td>1124</td>\n",
              "      <td>5354</td>\n",
              "      <td>30.747954</td>\n",
              "      <td>157.770568</td>\n",
              "      <td>28.1178</td>\n",
              "      <td>5.983368</td>\n",
              "      <td>6.119983</td>\n",
              "      <td>5.870473</td>\n",
              "      <td>-0.122183</td>\n",
              "      <td>0.992976</td>\n",
              "    </tr>\n",
              "    <tr>\n",
              "      <th>12</th>\n",
              "      <td>13</td>\n",
              "      <td>1003</td>\n",
              "      <td>5390</td>\n",
              "      <td>1160</td>\n",
              "      <td>5544</td>\n",
              "      <td>32.399653</td>\n",
              "      <td>163.984284</td>\n",
              "      <td>18.4554</td>\n",
              "      <td>4.847489</td>\n",
              "      <td>4.983515</td>\n",
              "      <td>4.733016</td>\n",
              "      <td>-0.726204</td>\n",
              "      <td>0.991730</td>\n",
              "    </tr>\n",
              "    <tr>\n",
              "      <th>13</th>\n",
              "      <td>14</td>\n",
              "      <td>1014</td>\n",
              "      <td>1816</td>\n",
              "      <td>1163</td>\n",
              "      <td>2005</td>\n",
              "      <td>32.672187</td>\n",
              "      <td>57.230858</td>\n",
              "      <td>21.1680</td>\n",
              "      <td>5.191525</td>\n",
              "      <td>5.919740</td>\n",
              "      <td>4.578597</td>\n",
              "      <td>-1.524870</td>\n",
              "      <td>0.989483</td>\n",
              "    </tr>\n",
              "    <tr>\n",
              "      <th>14</th>\n",
              "      <td>15</td>\n",
              "      <td>1026</td>\n",
              "      <td>1022</td>\n",
              "      <td>1198</td>\n",
              "      <td>1209</td>\n",
              "      <td>33.324746</td>\n",
              "      <td>33.445462</td>\n",
              "      <td>24.3837</td>\n",
              "      <td>5.571920</td>\n",
              "      <td>5.854066</td>\n",
              "      <td>5.324035</td>\n",
              "      <td>-1.540617</td>\n",
              "      <td>0.992345</td>\n",
              "    </tr>\n",
              "    <tr>\n",
              "      <th>15</th>\n",
              "      <td>16</td>\n",
              "      <td>1035</td>\n",
              "      <td>3548</td>\n",
              "      <td>1234</td>\n",
              "      <td>3745</td>\n",
              "      <td>34.025832</td>\n",
              "      <td>109.394479</td>\n",
              "      <td>29.2050</td>\n",
              "      <td>6.097947</td>\n",
              "      <td>6.158044</td>\n",
              "      <td>6.053905</td>\n",
              "      <td>-0.286532</td>\n",
              "      <td>0.993144</td>\n",
              "    </tr>\n",
              "    <tr>\n",
              "      <th>16</th>\n",
              "      <td>17</td>\n",
              "      <td>1049</td>\n",
              "      <td>4168</td>\n",
              "      <td>1243</td>\n",
              "      <td>4357</td>\n",
              "      <td>34.322070</td>\n",
              "      <td>127.856191</td>\n",
              "      <td>27.1971</td>\n",
              "      <td>5.884592</td>\n",
              "      <td>6.038060</td>\n",
              "      <td>5.751526</td>\n",
              "      <td>-0.487346</td>\n",
              "      <td>0.991567</td>\n",
              "    </tr>\n",
              "    <tr>\n",
              "      <th>17</th>\n",
              "      <td>18</td>\n",
              "      <td>1053</td>\n",
              "      <td>3779</td>\n",
              "      <td>1246</td>\n",
              "      <td>3987</td>\n",
              "      <td>34.448106</td>\n",
              "      <td>116.472861</td>\n",
              "      <td>30.0879</td>\n",
              "      <td>6.189435</td>\n",
              "      <td>6.425920</td>\n",
              "      <td>5.974747</td>\n",
              "      <td>-1.522360</td>\n",
              "      <td>0.993285</td>\n",
              "    </tr>\n",
              "    <tr>\n",
              "      <th>18</th>\n",
              "      <td>19</td>\n",
              "      <td>1057</td>\n",
              "      <td>3063</td>\n",
              "      <td>1208</td>\n",
              "      <td>3205</td>\n",
              "      <td>33.941341</td>\n",
              "      <td>94.005297</td>\n",
              "      <td>16.1892</td>\n",
              "      <td>4.540124</td>\n",
              "      <td>4.683783</td>\n",
              "      <td>4.416628</td>\n",
              "      <td>-0.189601</td>\n",
              "      <td>0.989983</td>\n",
              "    </tr>\n",
              "    <tr>\n",
              "      <th>19</th>\n",
              "      <td>20</td>\n",
              "      <td>1059</td>\n",
              "      <td>2869</td>\n",
              "      <td>1220</td>\n",
              "      <td>3023</td>\n",
              "      <td>34.165903</td>\n",
              "      <td>88.331937</td>\n",
              "      <td>18.5319</td>\n",
              "      <td>4.857525</td>\n",
              "      <td>4.998235</td>\n",
              "      <td>4.734433</td>\n",
              "      <td>0.266099</td>\n",
              "      <td>0.991668</td>\n",
              "    </tr>\n",
              "    <tr>\n",
              "      <th>20</th>\n",
              "      <td>21</td>\n",
              "      <td>1085</td>\n",
              "      <td>4398</td>\n",
              "      <td>1258</td>\n",
              "      <td>4569</td>\n",
              "      <td>35.037302</td>\n",
              "      <td>134.469559</td>\n",
              "      <td>22.4838</td>\n",
              "      <td>5.350445</td>\n",
              "      <td>5.498830</td>\n",
              "      <td>5.236273</td>\n",
              "      <td>-0.763711</td>\n",
              "      <td>0.992018</td>\n",
              "    </tr>\n",
              "    <tr>\n",
              "      <th>21</th>\n",
              "      <td>22</td>\n",
              "      <td>1097</td>\n",
              "      <td>2593</td>\n",
              "      <td>1271</td>\n",
              "      <td>2788</td>\n",
              "      <td>35.495790</td>\n",
              "      <td>80.648438</td>\n",
              "      <td>25.8336</td>\n",
              "      <td>5.735186</td>\n",
              "      <td>6.124204</td>\n",
              "      <td>5.389607</td>\n",
              "      <td>-1.542840</td>\n",
              "      <td>0.993321</td>\n",
              "    </tr>\n",
              "    <tr>\n",
              "      <th>22</th>\n",
              "      <td>23</td>\n",
              "      <td>1099</td>\n",
              "      <td>4697</td>\n",
              "      <td>1309</td>\n",
              "      <td>4908</td>\n",
              "      <td>36.059014</td>\n",
              "      <td>144.046770</td>\n",
              "      <td>32.9904</td>\n",
              "      <td>6.481102</td>\n",
              "      <td>6.593189</td>\n",
              "      <td>6.387528</td>\n",
              "      <td>-0.916836</td>\n",
              "      <td>0.993011</td>\n",
              "    </tr>\n",
              "    <tr>\n",
              "      <th>23</th>\n",
              "      <td>24</td>\n",
              "      <td>1126</td>\n",
              "      <td>4949</td>\n",
              "      <td>1327</td>\n",
              "      <td>5128</td>\n",
              "      <td>36.777866</td>\n",
              "      <td>151.144384</td>\n",
              "      <td>26.9064</td>\n",
              "      <td>5.853058</td>\n",
              "      <td>6.254687</td>\n",
              "      <td>5.490873</td>\n",
              "      <td>0.052111</td>\n",
              "      <td>0.992398</td>\n",
              "    </tr>\n",
              "    <tr>\n",
              "      <th>24</th>\n",
              "      <td>25</td>\n",
              "      <td>1130</td>\n",
              "      <td>1979</td>\n",
              "      <td>1319</td>\n",
              "      <td>2136</td>\n",
              "      <td>36.722909</td>\n",
              "      <td>61.707084</td>\n",
              "      <td>22.5612</td>\n",
              "      <td>5.359647</td>\n",
              "      <td>5.932554</td>\n",
              "      <td>4.864765</td>\n",
              "      <td>-0.113745</td>\n",
              "      <td>0.991692</td>\n",
              "    </tr>\n",
              "    <tr>\n",
              "      <th>25</th>\n",
              "      <td>26</td>\n",
              "      <td>1176</td>\n",
              "      <td>549</td>\n",
              "      <td>1318</td>\n",
              "      <td>702</td>\n",
              "      <td>37.368127</td>\n",
              "      <td>18.757046</td>\n",
              "      <td>16.4781</td>\n",
              "      <td>4.580455</td>\n",
              "      <td>4.783871</td>\n",
              "      <td>4.400699</td>\n",
              "      <td>1.379798</td>\n",
              "      <td>0.990961</td>\n",
              "    </tr>\n",
              "    <tr>\n",
              "      <th>26</th>\n",
              "      <td>27</td>\n",
              "      <td>1176</td>\n",
              "      <td>1642</td>\n",
              "      <td>1358</td>\n",
              "      <td>1818</td>\n",
              "      <td>37.984530</td>\n",
              "      <td>51.900157</td>\n",
              "      <td>23.7411</td>\n",
              "      <td>5.498009</td>\n",
              "      <td>5.657482</td>\n",
              "      <td>5.356424</td>\n",
              "      <td>-0.449678</td>\n",
              "      <td>0.991990</td>\n",
              "    </tr>\n",
              "    <tr>\n",
              "      <th>27</th>\n",
              "      <td>28</td>\n",
              "      <td>1210</td>\n",
              "      <td>1312</td>\n",
              "      <td>1386</td>\n",
              "      <td>1523</td>\n",
              "      <td>38.901697</td>\n",
              "      <td>42.474331</td>\n",
              "      <td>28.4454</td>\n",
              "      <td>6.018123</td>\n",
              "      <td>6.635741</td>\n",
              "      <td>5.480809</td>\n",
              "      <td>-1.484604</td>\n",
              "      <td>0.992620</td>\n",
              "    </tr>\n",
              "    <tr>\n",
              "      <th>28</th>\n",
              "      <td>29</td>\n",
              "      <td>1250</td>\n",
              "      <td>5726</td>\n",
              "      <td>1398</td>\n",
              "      <td>5859</td>\n",
              "      <td>39.691402</td>\n",
              "      <td>173.777640</td>\n",
              "      <td>14.8824</td>\n",
              "      <td>4.353029</td>\n",
              "      <td>4.651191</td>\n",
              "      <td>4.088903</td>\n",
              "      <td>-0.281760</td>\n",
              "      <td>0.990476</td>\n",
              "    </tr>\n",
              "  </tbody>\n",
              "</table>"
            ],
            "text/plain": [
              "    label  bbox-0  bbox-1  bbox-2  bbox-3  centroid-0  centroid-1     area  \\\n",
              "0       1     835    3742    1007    3946   27.659814  115.256195  26.5113   \n",
              "1       2     846    3470    1014    3652   27.888554  106.812965  23.2209   \n",
              "2       3     859    3185    1023    3350   28.205184   98.013696  20.5407   \n",
              "3       4     861    4054    1022    4221   28.218190  124.127465  20.5902   \n",
              "4       5     877    2725    1060    2948   29.050008   85.017869  30.9213   \n",
              "5       6     881    4416    1030    4600   28.647920  135.176317  20.8566   \n",
              "6       7     888    4241    1026    4417   28.731418  129.842832  18.3555   \n",
              "7       8     907    4796    1064    4988   29.551040  146.720336  23.0472   \n",
              "8       9     910    2463    1070    2615   29.664914   76.141714  18.5391   \n",
              "9      10     924    4993    1093    5161   30.250303  152.281324  21.5325   \n",
              "10     11     928    2178    1132    2370   30.876890   68.204226  29.6649   \n",
              "11     12     928    5166    1124    5354   30.747954  157.770568  28.1178   \n",
              "12     13    1003    5390    1160    5544   32.399653  163.984284  18.4554   \n",
              "13     14    1014    1816    1163    2005   32.672187   57.230858  21.1680   \n",
              "14     15    1026    1022    1198    1209   33.324746   33.445462  24.3837   \n",
              "15     16    1035    3548    1234    3745   34.025832  109.394479  29.2050   \n",
              "16     17    1049    4168    1243    4357   34.322070  127.856191  27.1971   \n",
              "17     18    1053    3779    1246    3987   34.448106  116.472861  30.0879   \n",
              "18     19    1057    3063    1208    3205   33.941341   94.005297  16.1892   \n",
              "19     20    1059    2869    1220    3023   34.165903   88.331937  18.5319   \n",
              "20     21    1085    4398    1258    4569   35.037302  134.469559  22.4838   \n",
              "21     22    1097    2593    1271    2788   35.495790   80.648438  25.8336   \n",
              "22     23    1099    4697    1309    4908   36.059014  144.046770  32.9904   \n",
              "23     24    1126    4949    1327    5128   36.777866  151.144384  26.9064   \n",
              "24     25    1130    1979    1319    2136   36.722909   61.707084  22.5612   \n",
              "25     26    1176     549    1318     702   37.368127   18.757046  16.4781   \n",
              "26     27    1176    1642    1358    1818   37.984530   51.900157  23.7411   \n",
              "27     28    1210    1312    1386    1523   38.901697   42.474331  28.4454   \n",
              "28     29    1250    5726    1398    5859   39.691402  173.777640  14.8824   \n",
              "\n",
              "    equivalent_diameter  major_axis_length  minor_axis_length  orientation  \\\n",
              "0              5.809926           6.408291           5.293776    -1.531574   \n",
              "1              5.437441           5.688197           5.217015     1.524893   \n",
              "2              5.114023           5.160864           5.084435     1.232456   \n",
              "3              5.120181           5.244345           5.017989    -1.373028   \n",
              "4              6.274569           6.983425           5.664964    -1.470105   \n",
              "5              5.153198           5.761219           4.633875    -1.469292   \n",
              "6              4.834351           5.516655           4.257249    -1.566841   \n",
              "7              5.417066           5.982115           4.933751    -1.492895   \n",
              "8              4.858468           5.006396           4.731858    -0.154559   \n",
              "9              5.236032           5.288282           5.204249     0.673634   \n",
              "10             6.145773           6.356039           5.963699     0.027018   \n",
              "11             5.983368           6.119983           5.870473    -0.122183   \n",
              "12             4.847489           4.983515           4.733016    -0.726204   \n",
              "13             5.191525           5.919740           4.578597    -1.524870   \n",
              "14             5.571920           5.854066           5.324035    -1.540617   \n",
              "15             6.097947           6.158044           6.053905    -0.286532   \n",
              "16             5.884592           6.038060           5.751526    -0.487346   \n",
              "17             6.189435           6.425920           5.974747    -1.522360   \n",
              "18             4.540124           4.683783           4.416628    -0.189601   \n",
              "19             4.857525           4.998235           4.734433     0.266099   \n",
              "20             5.350445           5.498830           5.236273    -0.763711   \n",
              "21             5.735186           6.124204           5.389607    -1.542840   \n",
              "22             6.481102           6.593189           6.387528    -0.916836   \n",
              "23             5.853058           6.254687           5.490873     0.052111   \n",
              "24             5.359647           5.932554           4.864765    -0.113745   \n",
              "25             4.580455           4.783871           4.400699     1.379798   \n",
              "26             5.498009           5.657482           5.356424    -0.449678   \n",
              "27             6.018123           6.635741           5.480809    -1.484604   \n",
              "28             4.353029           4.651191           4.088903    -0.281760   \n",
              "\n",
              "    solidity  \n",
              "0   0.991785  \n",
              "1   0.992079  \n",
              "2   0.991442  \n",
              "3   0.992280  \n",
              "4   0.992719  \n",
              "5   0.991189  \n",
              "6   0.989376  \n",
              "7   0.991597  \n",
              "8   0.991433  \n",
              "9   0.991710  \n",
              "10  0.992174  \n",
              "11  0.992976  \n",
              "12  0.991730  \n",
              "13  0.989483  \n",
              "14  0.992345  \n",
              "15  0.993144  \n",
              "16  0.991567  \n",
              "17  0.993285  \n",
              "18  0.989983  \n",
              "19  0.991668  \n",
              "20  0.992018  \n",
              "21  0.993321  \n",
              "22  0.993011  \n",
              "23  0.992398  \n",
              "24  0.991692  \n",
              "25  0.990961  \n",
              "26  0.991990  \n",
              "27  0.992620  \n",
              "28  0.990476  "
            ]
          },
          "execution_count": 10,
          "metadata": {},
          "output_type": "execute_result"
        }
      ],
      "source": [
        "# show table of size and shape metrics in millimetres\n",
        "features"
      ]
    },
    {
      "cell_type": "code",
      "execution_count": 11,
      "metadata": {
        "id": "UMOw40kT3ZS3"
      },
      "outputs": [],
      "source": [
        "# output csv with measurements\n",
        "features.to_csv('01_Shengliyoucai_main_A.csv', header=True, index=False)"
      ]
    },
    {
      "cell_type": "markdown",
      "metadata": {
        "id": "Xa2lGO0p-gKA"
      },
      "source": [
        "## 7. Save segmented images of each individual seed with `Pixelflow`"
      ]
    },
    {
      "cell_type": "code",
      "execution_count": 12,
      "metadata": {
        "id": "vg9DhBwgB4XB"
      },
      "outputs": [],
      "source": [
        "# make list of all seeds in mask, shift backwards by one to match index values\n",
        "X = list(features.features.label)\n",
        "for i in range(len(X)):\n",
        "    X[i] -= 1"
      ]
    },
    {
      "cell_type": "code",
      "execution_count": 13,
      "metadata": {
        "id": "BoC7MGJ_CKLS"
      },
      "outputs": [],
      "source": [
        "# save segmented images of all seeds within a seed pod\n",
        "for file in X:\n",
        "    np.save(pod_name + '_seed_' + str(features.features.label[file]) + '.npy', features.image_intensity[file])"
      ]
    },
    {
      "cell_type": "code",
      "execution_count": 14,
      "metadata": {
        "colab": {
          "base_uri": "https://localhost:8080/",
          "height": 434
        },
        "id": "ZueuWsKyzooB",
        "outputId": "8acac810-a330-49a4-a977-adfa5def43fc"
      },
      "outputs": [
        {
          "data": {
            "image/png": "[encoded data removed]",
            "text/plain": [
              "<Figure size 640x480 with 1 Axes>"
            ]
          },
          "metadata": {},
          "output_type": "display_data"
        }
      ],
      "source": [
        "# load single seed image\n",
        "seed_image = np.load('01_Shengliyoucai_main_A_seed_1.npy')\n",
        "\n",
        "fig = plt.imshow(seed_image)"
      ]
    },
    {
      "cell_type": "markdown",
      "metadata": {
        "id": "k4emQXRsJIQX"
      },
      "source": [
        "# Extract seed size and shape metrics and single seed images from multiple images (one seed pod per image) with `Pixelflow`"
      ]
    },
    {
      "cell_type": "code",
      "execution_count": 15,
      "metadata": {
        "colab": {
          "base_uri": "https://localhost:8080/"
        },
        "id": "IMpQ-5MFGUhH",
        "outputId": "307a1b80-431f-4c26-b054-079058f87dd5"
      },
      "outputs": [
        {
          "data": {
            "text/plain": [
              "['content/DSC_0008.tif',\n",
              " 'content/DSC_0017.tif',\n",
              " 'content/DSC_0035.tif',\n",
              " 'content/DSC_0039.tif']"
            ]
          },
          "execution_count": 15,
          "metadata": {},
          "output_type": "execute_result"
        }
      ],
      "source": [
        "# load all input images\n",
        "img_list = sorted(glob('content/*.tif'))\n",
        "img_list"
      ]
    },
    {
      "cell_type": "code",
      "execution_count": 16,
      "metadata": {
        "colab": {
          "base_uri": "https://localhost:8080/"
        },
        "id": "Qzg_sCzDmk-c",
        "outputId": "7d6997f6-7947-459e-c71e-2551e46353bd"
      },
      "outputs": [
        {
          "name": "stdout",
          "output_type": "stream",
          "text": [
            "YX image detected\n",
            "YX image detected\n",
            "YX image detected\n",
            "YX image detected\n"
          ]
        }
      ],
      "source": [
        "for file in img_list:\n",
        "  # load image and mask\n",
        "  img = imread(file)\n",
        "  pod_name = re.split(\"[/.]\", file)[-2]\n",
        "  pred = model.predict(img)\n",
        "  np.save(Path('content/'+ pod_name + '_pred.npy'), pred)\n",
        "  \n",
        "  # create table of size and shape metrics\n",
        "  features = pixelflow(\n",
        "      mask=pred,\n",
        "      image=img,\n",
        "      spacing=(0.03,0.03),\n",
        "      features=('label', 'bbox', 'centroid', 'area', 'equivalent_diameter', 'major_axis_length', 'minor_axis_length', 'orientation', 'solidity', 'image_intensity'),\n",
        "  )\n",
        "  # output csv with measurements\n",
        "  features.to_csv(pod_name + '.csv', header=True, index=False)\n",
        "\n",
        "  # make list of all seeds in mask, shift backwards by one to match index values\n",
        "  X = list(features.features.label)\n",
        "  for i in range(len(X)):\n",
        "      X[i] -= 1\n",
        "\n",
        "  # save segmented images of all seeds within a seed pod\n",
        "  for file in X:\n",
        "      np.save(pod_name + '_seed_' + str(features.features.label[file]) + '.npy', features.image_intensity[file])"
      ]
    },
    {
      "cell_type": "markdown",
      "metadata": {
        "id": "KDLKLxbBQGLq"
      },
      "source": [
        "##  8. Sort detected seeds into 2 seeds pod valves, and calculated related measurements (order in valve from seed pod beak to pedicel, space between seeds in each valve) with `'seedpod_2D_valve_lowess_single.R'`"
      ]
    },
    {
      "cell_type": "code",
      "execution_count": 17,
      "metadata": {
        "id": "22Hf8rk6gKd8"
      },
      "outputs": [],
      "source": [
        "# import pandas as pd\n",
        "import rpy2.robjects as robjects\n",
        "from rpy2.robjects import pandas2ri\n",
        "from rpy2.robjects import conversion, default_converter\n",
        "import rpy2.robjects.packages as rpackages\n",
        "from rpy2.robjects.vectors import StrVector"
      ]
    },
    {
      "cell_type": "code",
      "execution_count": 18,
      "metadata": {
        "colab": {
          "base_uri": "https://localhost:8080/"
        },
        "id": "2m0qMXDUyVf0",
        "outputId": "ff77f730-fe54-486d-e65e-afbb3366a01f"
      },
      "outputs": [],
      "source": [
        "# R packages to install\n",
        "with conversion.localconverter(default_converter):\n",
        "  utils = rpackages.importr('utils')\n",
        "  utils.chooseCRANmirror(ind=1)\n",
        "  packnames = ('gplots', 'tidyverse')\n",
        "  # Selectively install what needs to be install.\n",
        "  names_to_install = [x for x in packnames if not rpackages.isinstalled(x)]\n",
        "  if len(names_to_install) > 0:\n",
        "      utils.install_packages(StrVector(names_to_install))"
      ]
    },
    {
      "cell_type": "code",
      "execution_count": 19,
      "metadata": {
        "id": "GsTPZuFb3zqy"
      },
      "outputs": [],
      "source": [
        "# Defining the R script and loading the instance in Python\n",
        "r = robjects.r"
      ]
    },
    {
      "cell_type": "code",
      "execution_count": 20,
      "metadata": {
        "colab": {
          "base_uri": "https://localhost:8080/"
        },
        "id": "bxEwHtRNyzfk",
        "outputId": "3c0515f1-63d4-4c2f-d91a-f276c80c4c46"
      },
      "outputs": [
        {
          "name": "stdout",
          "output_type": "stream",
          "text": [
            "YX image detected\n",
            "── Attaching core tidyverse packages ──────────────────────── tidyverse 2.0.0 ──\n",
            "✔ dplyr     1.1.4     ✔ readr     2.1.5\n",
            "✔ forcats   1.0.0     ✔ stringr   1.5.1\n",
            "✔ ggplot2   3.4.4     ✔ tibble    3.2.1\n",
            "✔ lubridate 1.9.3     ✔ tidyr     1.3.1\n",
            "✔ purrr     1.0.2     \n",
            "── Conflicts ────────────────────────────────────────── tidyverse_conflicts() ──\n",
            "✖ dplyr::filter() masks stats::filter()\n",
            "✖ dplyr::lag()    masks stats::lag()\n",
            "ℹ Use the conflicted package (<http://conflicted.r-lib.org/>) to force all conflicts to become errors\n"
          ]
        },
        {
          "data": {
            "text/html": [
              "<pre style=\"white-space:pre;overflow-x:auto;line-height:normal;font-family:Menlo,'DejaVu Sans Mono',consolas,'Courier New',monospace\"><span style=\"color: #7fbfbf; text-decoration-color: #7fbfbf\">[12:00:54] </span><span style=\"color: #800000; text-decoration-color: #800000\">WARNING </span> R<span style=\"font-weight: bold\">[</span>write to console<span style=\"font-weight: bold\">]</span>:                                                           <a href=\"file:///Users/ifenton/opt/anaconda3/envs/test_pxsd4/lib/python3.10/site-packages/rpy2/rinterface_lib/callbacks.py\" target=\"_blank\"><span style=\"color: #7f7f7f; text-decoration-color: #7f7f7f\">callbacks.py</span></a><span style=\"color: #7f7f7f; text-decoration-color: #7f7f7f\">:</span><a href=\"file:///Users/ifenton/opt/anaconda3/envs/test_pxsd4/lib/python3.10/site-packages/rpy2/rinterface_lib/callbacks.py#124\" target=\"_blank\"><span style=\"color: #7f7f7f; text-decoration-color: #7f7f7f\">124</span></a>\n",
              "<span style=\"color: #7fbfbf; text-decoration-color: #7fbfbf\">           </span>         Attaching package: ‘gplots’                                                    <span style=\"color: #7f7f7f; text-decoration-color: #7f7f7f\">                </span>\n",
              "<span style=\"color: #7fbfbf; text-decoration-color: #7fbfbf\">           </span>                                                                                        <span style=\"color: #7f7f7f; text-decoration-color: #7f7f7f\">                </span>\n",
              "<span style=\"color: #7fbfbf; text-decoration-color: #7fbfbf\">           </span>                                                                                        <span style=\"color: #7f7f7f; text-decoration-color: #7f7f7f\">                </span>\n",
              "</pre>\n"
            ],
            "text/plain": [
              "\u001b[2;36m[12:00:54]\u001b[0m\u001b[2;36m \u001b[0m\u001b[31mWARNING \u001b[0m R\u001b[1m[\u001b[0mwrite to console\u001b[1m]\u001b[0m:                                                           \u001b]8;id=899543;file:///Users/ifenton/opt/anaconda3/envs/test_pxsd4/lib/python3.10/site-packages/rpy2/rinterface_lib/callbacks.py\u001b\\\u001b[2mcallbacks.py\u001b[0m\u001b]8;;\u001b\\\u001b[2m:\u001b[0m\u001b]8;id=481582;file:///Users/ifenton/opt/anaconda3/envs/test_pxsd4/lib/python3.10/site-packages/rpy2/rinterface_lib/callbacks.py#124\u001b\\\u001b[2m124\u001b[0m\u001b]8;;\u001b\\\n",
              "\u001b[2;36m           \u001b[0m         Attaching package: ‘gplots’                                                    \u001b[2m                \u001b[0m\n",
              "\u001b[2;36m           \u001b[0m                                                                                        \u001b[2m                \u001b[0m\n",
              "\u001b[2;36m           \u001b[0m                                                                                        \u001b[2m                \u001b[0m\n"
            ]
          },
          "metadata": {},
          "output_type": "display_data"
        },
        {
          "data": {
            "text/html": [
              "<pre style=\"white-space:pre;overflow-x:auto;line-height:normal;font-family:Menlo,'DejaVu Sans Mono',consolas,'Courier New',monospace\"><span style=\"color: #7fbfbf; text-decoration-color: #7fbfbf\">           </span><span style=\"color: #800000; text-decoration-color: #800000\">WARNING </span> R<span style=\"font-weight: bold\">[</span>write to console<span style=\"font-weight: bold\">]</span>: The following object is masked from ‘package:stats’:      <a href=\"file:///Users/ifenton/opt/anaconda3/envs/test_pxsd4/lib/python3.10/site-packages/rpy2/rinterface_lib/callbacks.py\" target=\"_blank\"><span style=\"color: #7f7f7f; text-decoration-color: #7f7f7f\">callbacks.py</span></a><span style=\"color: #7f7f7f; text-decoration-color: #7f7f7f\">:</span><a href=\"file:///Users/ifenton/opt/anaconda3/envs/test_pxsd4/lib/python3.10/site-packages/rpy2/rinterface_lib/callbacks.py#124\" target=\"_blank\"><span style=\"color: #7f7f7f; text-decoration-color: #7f7f7f\">124</span></a>\n",
              "<span style=\"color: #7fbfbf; text-decoration-color: #7fbfbf\">           </span>                                                                                        <span style=\"color: #7f7f7f; text-decoration-color: #7f7f7f\">                </span>\n",
              "<span style=\"color: #7fbfbf; text-decoration-color: #7fbfbf\">           </span>             lowess                                                                     <span style=\"color: #7f7f7f; text-decoration-color: #7f7f7f\">                </span>\n",
              "<span style=\"color: #7fbfbf; text-decoration-color: #7fbfbf\">           </span>                                                                                        <span style=\"color: #7f7f7f; text-decoration-color: #7f7f7f\">                </span>\n",
              "<span style=\"color: #7fbfbf; text-decoration-color: #7fbfbf\">           </span>                                                                                        <span style=\"color: #7f7f7f; text-decoration-color: #7f7f7f\">                </span>\n",
              "</pre>\n"
            ],
            "text/plain": [
              "\u001b[2;36m          \u001b[0m\u001b[2;36m \u001b[0m\u001b[31mWARNING \u001b[0m R\u001b[1m[\u001b[0mwrite to console\u001b[1m]\u001b[0m: The following object is masked from ‘package:stats’:      \u001b]8;id=305299;file:///Users/ifenton/opt/anaconda3/envs/test_pxsd4/lib/python3.10/site-packages/rpy2/rinterface_lib/callbacks.py\u001b\\\u001b[2mcallbacks.py\u001b[0m\u001b]8;;\u001b\\\u001b[2m:\u001b[0m\u001b]8;id=632937;file:///Users/ifenton/opt/anaconda3/envs/test_pxsd4/lib/python3.10/site-packages/rpy2/rinterface_lib/callbacks.py#124\u001b\\\u001b[2m124\u001b[0m\u001b]8;;\u001b\\\n",
              "\u001b[2;36m           \u001b[0m                                                                                        \u001b[2m                \u001b[0m\n",
              "\u001b[2;36m           \u001b[0m             lowess                                                                     \u001b[2m                \u001b[0m\n",
              "\u001b[2;36m           \u001b[0m                                                                                        \u001b[2m                \u001b[0m\n",
              "\u001b[2;36m           \u001b[0m                                                                                        \u001b[2m                \u001b[0m\n"
            ]
          },
          "metadata": {},
          "output_type": "display_data"
        },
        {
          "name": "stdout",
          "output_type": "stream",
          "text": [
            "YX image detected\n",
            "YX image detected\n",
            "YX image detected\n"
          ]
        }
      ],
      "source": [
        "for file in img_list:\n",
        "  # Calculate the image data in pixelflow\n",
        "  img2 = imread(file)\n",
        "  pod_name = re.split(\"[/.]\", file)[-2]\n",
        "  mask2 = np.load(Path('content/'+ pod_name + '_pred.npy'))\n",
        "  features2 = pixelflow(mask2, img2, features=('label', 'bbox', 'centroid', 'area', 'equivalent_diameter', 'major_axis_length', 'minor_axis_length', 'orientation', 'solidity', 'image_intensity'))\n",
        "\n",
        "  # Loading the function we have defined in R.\n",
        "  with conversion.localconverter(default_converter):\n",
        "      r['source']('seedpod_2D_valve_lowess_single.R')\n",
        "      seedpod_2D_single_r = robjects.globalenv['seedpod_2D_single']\n",
        "\n",
        "  #converting dataframe into r object for passing into r function\n",
        "  with (robjects.default_converter + pandas2ri.converter).context():\n",
        "    r_from_pd_df = robjects.conversion.get_conversion().py2rpy(features2.features)\n",
        "\n",
        "  #Invoking the R function and getting the result\n",
        "  with conversion.localconverter(default_converter):\n",
        "      df_result_r = seedpod_2D_single_r(r_from_pd_df, \"plot_\" + pod_name + \".png\")\n",
        "\n",
        "  #Converting it back to a pandas dataframe\n",
        "  with (robjects.default_converter + pandas2ri.converter).context():\n",
        "    df_result = robjects.conversion.get_conversion().rpy2py(df_result_r)\n"
      ]
    }
  ],
  "metadata": {
    "colab": {
      "provenance": []
    },
    "kernelspec": {
      "display_name": "base",
      "language": "python",
      "name": "python3"
    },
    "language_info": {
      "codemirror_mode": {
        "name": "ipython",
        "version": 3
      },
      "file_extension": ".py",
      "mimetype": "text/x-python",
      "name": "python",
      "nbconvert_exporter": "python",
      "pygments_lexer": "ipython3",
      "version": "3.10.8"
    },
    "orig_nbformat": 4
  },
  "nbformat": 4,
  "nbformat_minor": 0
}
